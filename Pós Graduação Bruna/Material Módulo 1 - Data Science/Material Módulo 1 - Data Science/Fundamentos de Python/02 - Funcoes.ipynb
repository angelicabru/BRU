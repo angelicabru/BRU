{
 "cells": [
  {
   "cell_type": "markdown",
   "id": "592f918a",
   "metadata": {},
   "source": [
    "# Funções\n",
    "****\n",
    "\n",
    "Uma função em Python é um bloco de código reutilizável que executa uma tarefa específica. Ela recebe entradas (conhecidas como parâmetros ou argumentos), processa essas entradas e pode retornar um resultado. As funções são uma parte essencial da programação em Python, pois permitem dividir o código em partes menores e mais gerenciáveis, promovendo a reutilização e a modularidade do código.\n",
    "\n",
    "Para definir uma função em Python, você usa a palavra-chave def, seguida pelo nome da função e, opcionalmente, uma lista de parâmetros entre parênteses. O bloco de código da função é indentado e segue a definição da função. Aqui está um exemplo simples de uma função que soma dois números:"
   ]
  },
  {
   "cell_type": "markdown",
   "id": "9ac8dd15",
   "metadata": {},
   "source": [
    "Exemplo 1: Função Soma"
   ]
  },
  {
   "cell_type": "code",
   "execution_count": 3,
   "id": "e970def1",
   "metadata": {},
   "outputs": [],
   "source": [
    "def soma_valores(a,b):\n",
    "    resultado = a + b\n",
    "    return resultado"
   ]
  },
  {
   "cell_type": "markdown",
   "id": "40e388b5",
   "metadata": {},
   "source": [
    "Este exemplo, a função soma recebe dois parâmetros a e b, realiza a soma deles e retorna o resultado. Você pode chamar essa função em qualquer lugar do seu código, fornecendo os valores desejados para a e b. Por exemplo:"
   ]
  },
  {
   "cell_type": "code",
   "execution_count": null,
   "id": "e49d67fb",
   "metadata": {},
   "outputs": [
    {
     "data": {
      "text/plain": [
       "14"
      ]
     },
     "execution_count": 4,
     "metadata": {},
     "output_type": "execute_result"
    }
   ],
   "source": [
    "soma_valores(10,4)"
   ]
  },
  {
   "cell_type": "code",
   "execution_count": null,
   "id": "800b1151",
   "metadata": {},
   "outputs": [
    {
     "data": {
      "text/plain": [
       "14"
      ]
     },
     "execution_count": 5,
     "metadata": {},
     "output_type": "execute_result"
    }
   ],
   "source": [
    "a = 10\n",
    "b = 4\n",
    "soma_valores(a,b)"
   ]
  },
  {
   "cell_type": "code",
   "execution_count": 6,
   "id": "51dfd0c3",
   "metadata": {},
   "outputs": [
    {
     "data": {
      "text/plain": [
       "23"
      ]
     },
     "execution_count": 6,
     "metadata": {},
     "output_type": "execute_result"
    }
   ],
   "source": [
    "soma_valores(17,6)"
   ]
  },
  {
   "cell_type": "markdown",
   "id": "8c828ce2",
   "metadata": {},
   "source": [
    "Exemplo 2: Função que verifica se um número é par\n",
    "\n",
    "Note: % é divisão"
   ]
  },
  {
   "cell_type": "code",
   "execution_count": 8,
   "id": "e8c630d5",
   "metadata": {},
   "outputs": [],
   "source": [
    "def e_numero_par(numero):\n",
    "    if numero % 2 == 0:\n",
    "       return 'É um número par'\n",
    "    else:\n",
    "       return 'Esse número não é par'"
   ]
  },
  {
   "cell_type": "code",
   "execution_count": 10,
   "id": "5edc7c71",
   "metadata": {},
   "outputs": [
    {
     "data": {
      "text/plain": [
       "'É um número par'"
      ]
     },
     "execution_count": 10,
     "metadata": {},
     "output_type": "execute_result"
    }
   ],
   "source": [
    "e_numero_par(6)"
   ]
  },
  {
   "cell_type": "markdown",
   "id": "b699c8da",
   "metadata": {},
   "source": [
    "Note: Melhorando com f-string...\n",
    "\n",
    "f-strings são strings com a letra f no início e chaves { } para realizar a interpolação de expressões. Nesse caso, ele está retornando o valor que estamos consultando se é par ou não."
   ]
  },
  {
   "cell_type": "code",
   "execution_count": 12,
   "id": "83e8adfc",
   "metadata": {},
   "outputs": [],
   "source": [
    "def e_numero_par(numero):\n",
    "    if numero % 2 == 0:\n",
    "       return f'O número {numero} é par'\n",
    "    else:\n",
    "       return f'O número {numero} não é par'\n"
   ]
  },
  {
   "cell_type": "code",
   "execution_count": 16,
   "id": "5b0baf49",
   "metadata": {},
   "outputs": [
    {
     "data": {
      "text/plain": [
       "'O número 3 não é par'"
      ]
     },
     "execution_count": 16,
     "metadata": {},
     "output_type": "execute_result"
    }
   ],
   "source": [
    "e_numero_par(3)"
   ]
  },
  {
   "cell_type": "markdown",
   "id": "4f452d9c",
   "metadata": {},
   "source": [
    "Exemplo 3: Função que calcula a média de uma lista de números\n",
    "\n",
    "Note: a função len traz o número da lista\n",
    "\n",
    "sum é a função que irá contar os números dentro da lista\n",
    "\n",
    "a lista de números inserimos dentro de [ ]"
   ]
  },
  {
   "cell_type": "code",
   "execution_count": 24,
   "id": "997fb212",
   "metadata": {},
   "outputs": [],
   "source": [
    "def media_numeros(lista_numeros):\n",
    "    if len(lista_numeros) > 0:\n",
    "        print('A lista não está vazia')\n",
    "        return sum(lista_numeros) / len(lista_numeros)\n",
    "    else:\n",
    "        print('A lista está vazia')\n",
    "        return 0"
   ]
  },
  {
   "cell_type": "code",
   "execution_count": 26,
   "id": "fa301507",
   "metadata": {},
   "outputs": [],
   "source": [
    "lista_numeros = [1,5,7,8,9]"
   ]
  },
  {
   "cell_type": "code",
   "execution_count": 27,
   "metadata": {},
   "outputs": [
    {
     "name": "stdout",
     "output_type": "stream",
     "text": [
      "A lista não está vazia\n"
     ]
    },
    {
     "data": {
      "text/plain": [
       "6.0"
      ]
     },
     "execution_count": 27,
     "metadata": {},
     "output_type": "execute_result"
    }
   ],
   "source": [
    "media_numeros(lista_numeros)"
   ]
  },
  {
   "cell_type": "code",
   "execution_count": null,
   "id": "2771020e",
   "metadata": {},
   "outputs": [],
   "source": []
  }
 ],
 "metadata": {
  "kernelspec": {
   "display_name": "AULA",
   "language": "python",
   "name": "python3"
  },
  "language_info": {
   "codemirror_mode": {
    "name": "ipython",
    "version": 3
   },
   "file_extension": ".py",
   "mimetype": "text/x-python",
   "name": "python",
   "nbconvert_exporter": "python",
   "pygments_lexer": "ipython3",
   "version": "3.13.0"
  }
 },
 "nbformat": 4,
 "nbformat_minor": 5
}
