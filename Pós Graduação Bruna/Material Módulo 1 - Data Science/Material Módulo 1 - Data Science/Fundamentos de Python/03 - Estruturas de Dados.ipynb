{
 "cells": [
  {
   "cell_type": "markdown",
   "id": "316736c2",
   "metadata": {},
   "source": [
    "# Estruturas de Dados\n",
    "****\n",
    "As estruturas de dados desempenham um papel fundamental na organização e manipulação de informações em qualquer linguagem de programação. Em Python, uma linguagem conhecida por sua simplicidade e flexibilidade, uma variedade de estruturas de dados está disponível para lidar com diferentes necessidades de armazenamento e processamento de dados.\n",
    "\n",
    "Nesta aula, exploraremos algumas das estruturas de dados mais comuns em Python, incluindo listas, tuplas, conjuntos, dicionários, séries e dataframes. Cada uma dessas estruturas possui características únicas que a tornam adequada para diferentes tipos de tarefas.\n",
    "***"
   ]
  },
  {
   "cell_type": "markdown",
   "id": "2d53db6b",
   "metadata": {},
   "source": [
    "##### Lista (list)\n",
    "\n",
    "As listas em Python são estruturas de dados fundamentais que permitem armazenar coleções ordenadas de itens. Elas são mutáveis, o que significa que você pode adicionar, remover e modificar elementos após a criação da lista. As listas são muito versáteis e são amplamente utilizadas em programação Python para armazenar e manipular conjuntos de dados.\n",
    "\n",
    "O tipo de dados lista é utilizado para representar uma sequência **mutável** de valores. Uma lista é criada colocando valores separados por vírgulas entre colchetes [ ]. Os valores podem ser de qualquer tipo.\n",
    "\n",
    "Note: em Python, para acessar a lista, ele sempre começa com o indicador 0 (0, 1, 2, 3...). No exemplo abaixo, o número 10 é o indicador 0, o número 5 é o indicador 1, e assim por diante.\n"
   ]
  },
  {
   "cell_type": "code",
   "execution_count": 1,
   "id": "64b950f9",
   "metadata": {},
   "outputs": [
    {
     "data": {
      "text/plain": [
       "list"
      ]
     },
     "execution_count": 1,
     "metadata": {},
     "output_type": "execute_result"
    }
   ],
   "source": [
    "lista_numeros = [10, 5, 2, 3, 9]\n",
    "type(lista_numeros)"
   ]
  },
  {
   "cell_type": "markdown",
   "id": "e2fd481d",
   "metadata": {},
   "source": [
    "Acesso a Elementos \n",
    "\n",
    "Para acessar elementos individuais em uma lista, utilize índices começando do 0."
   ]
  },
  {
   "cell_type": "code",
   "execution_count": 2,
   "id": "150908a5",
   "metadata": {},
   "outputs": [
    {
     "data": {
      "text/plain": [
       "5"
      ]
     },
     "execution_count": 2,
     "metadata": {},
     "output_type": "execute_result"
    }
   ],
   "source": [
    "lista_numeros[1]"
   ]
  },
  {
   "cell_type": "markdown",
   "id": "9ef706c8",
   "metadata": {},
   "source": [
    "Note: Para acessar o último elemento da lista, utilizar -1"
   ]
  },
  {
   "cell_type": "code",
   "execution_count": 4,
   "id": "656604d5",
   "metadata": {},
   "outputs": [
    {
     "data": {
      "text/plain": [
       "9"
      ]
     },
     "execution_count": 4,
     "metadata": {},
     "output_type": "execute_result"
    }
   ],
   "source": [
    "lista_numeros[-1]"
   ]
  },
  {
   "cell_type": "markdown",
   "id": "60e04a74",
   "metadata": {},
   "source": [
    "Adição de Elementos\n",
    "\n",
    "Adicione elementos ao final da lista com append() ou insira em uma posição específica com insert()."
   ]
  },
  {
   "cell_type": "code",
   "execution_count": 13,
   "id": "5cf363fd",
   "metadata": {},
   "outputs": [
    {
     "name": "stdout",
     "output_type": "stream",
     "text": [
      "[10, 5, 2, 3, 9, 24, 24, 50, 50, 50, 2]\n",
      "[10, 5, 2, 3, 9, 24, 24, 50, 50, 50, 2, 2]\n"
     ]
    }
   ],
   "source": [
    "print(lista_numeros)\n",
    "lista_numeros.append(2)\n",
    "print(lista_numeros)"
   ]
  },
  {
   "cell_type": "markdown",
   "id": "02343b0c",
   "metadata": {},
   "source": [
    "Note: O método insert em Python insere um elemento numa posição específica de uma lista. Para isso, o método recebe dois argumentos: O primeiro argumento é o índice do elemento anterior à inserção. O segundo argumento é o elemento que será inserido"
   ]
  },
  {
   "cell_type": "code",
   "execution_count": 16,
   "id": "01b08f79",
   "metadata": {},
   "outputs": [
    {
     "name": "stdout",
     "output_type": "stream",
     "text": [
      "[10, 60, 5, 2, 3, 9, 24, 24, 50, 50, 50, 2, 2]\n",
      "[10, 60, 60, 5, 2, 3, 9, 24, 24, 50, 50, 50, 2, 2]\n"
     ]
    }
   ],
   "source": [
    "print(lista_numeros)\n",
    "lista_numeros.insert(1,60)\n",
    "print(lista_numeros)"
   ]
  },
  {
   "cell_type": "markdown",
   "id": "92827047",
   "metadata": {},
   "source": [
    "Remoção de Elementos\n",
    "\n",
    "Remova elementos com del, remove() ou pop()."
   ]
  },
  {
   "cell_type": "code",
   "execution_count": 20,
   "id": "fc89e965",
   "metadata": {},
   "outputs": [
    {
     "name": "stdout",
     "output_type": "stream",
     "text": [
      "[10, 60, 5, 2, 3, 9, 24, 24, 50, 50, 50, 2, 2]\n",
      "[10, 60, 2, 3, 9, 24, 24, 50, 50, 50, 2, 2]\n",
      "[10, 60, 2, 3, 9, 24, 24, 50, 50, 2, 2]\n"
     ]
    }
   ],
   "source": [
    "print(lista_numeros)\n",
    "del lista_numeros[2]\n",
    "print(lista_numeros)\n",
    "del lista_numeros[7]\n",
    "print(lista_numeros)"
   ]
  },
  {
   "cell_type": "code",
   "execution_count": 26,
   "id": "d1176983",
   "metadata": {},
   "outputs": [
    {
     "name": "stdout",
     "output_type": "stream",
     "text": [
      "[10, 60, 3, 9, 24, 2]\n"
     ]
    }
   ],
   "source": [
    "print(lista_numeros)\n",
    "lista_numeros.remove(2)"
   ]
  },
  {
   "cell_type": "markdown",
   "id": "48c9ab83",
   "metadata": {},
   "source": [
    "Note: a função pop remove o último elemento da lista"
   ]
  },
  {
   "cell_type": "code",
   "execution_count": 30,
   "id": "d765a30c",
   "metadata": {},
   "outputs": [
    {
     "name": "stdout",
     "output_type": "stream",
     "text": [
      "[10, 60, 9]\n",
      "[10, 60]\n"
     ]
    }
   ],
   "source": [
    "print(lista_numeros)\n",
    "lista_numeros.pop()\n",
    "print(lista_numeros)"
   ]
  },
  {
   "cell_type": "markdown",
   "id": "ab1d738c",
   "metadata": {},
   "source": [
    "Concatenação de Listas\n",
    "\n",
    "Concatene listas com o operador +."
   ]
  },
  {
   "cell_type": "code",
   "execution_count": 33,
   "id": "4ca918b5",
   "metadata": {},
   "outputs": [],
   "source": [
    "lista_numero_impares = [1, 2, 7]\n",
    "lista_nomes = ['Bruna', 'Renan']\n",
    "\n",
    "nova_lista = lista_numeros + lista_numero_impares + lista_nomes"
   ]
  },
  {
   "cell_type": "markdown",
   "id": "f8662f31",
   "metadata": {},
   "source": [
    "Fatiamento (Slicing)\n",
    "\n",
    "Extraia partes da lista usando a notação de fatiamento."
   ]
  },
  {
   "cell_type": "code",
   "execution_count": 38,
   "id": "3c734408",
   "metadata": {},
   "outputs": [
    {
     "name": "stdout",
     "output_type": "stream",
     "text": [
      "[10, 60, 1, 2, 7, 'Bruna', 'Renan']\n"
     ]
    },
    {
     "data": {
      "text/plain": [
       "['Bruna', 'Renan']"
      ]
     },
     "execution_count": 38,
     "metadata": {},
     "output_type": "execute_result"
    }
   ],
   "source": [
    "print(nova_lista)\n",
    "nova_lista[5:7]"
   ]
  },
  {
   "cell_type": "markdown",
   "id": "1432ca74",
   "metadata": {},
   "source": [
    "Ordenação\n",
    "\n",
    "Ordene os elementos de uma lista com sort() e inverta a ordem com reverse()."
   ]
  },
  {
   "cell_type": "code",
   "execution_count": 40,
   "id": "6e745735",
   "metadata": {},
   "outputs": [
    {
     "data": {
      "text/plain": [
       "[10, 60]"
      ]
     },
     "execution_count": 40,
     "metadata": {},
     "output_type": "execute_result"
    }
   ],
   "source": [
    "lista_numeros.sort()\n",
    "lista_numeros"
   ]
  },
  {
   "cell_type": "code",
   "execution_count": 43,
   "id": "9d4c74df",
   "metadata": {},
   "outputs": [
    {
     "data": {
      "text/plain": [
       "[60, 10]"
      ]
     },
     "execution_count": 43,
     "metadata": {},
     "output_type": "execute_result"
    }
   ],
   "source": [
    "lista_numeros.reverse()\n",
    "lista_numeros"
   ]
  },
  {
   "cell_type": "markdown",
   "id": "ca5291b3",
   "metadata": {},
   "source": [
    "***"
   ]
  },
  {
   "cell_type": "markdown",
   "id": "9c92e7b9",
   "metadata": {},
   "source": [
    "##### Tupla (tuple)\n",
    "O tipo de dados tupla é utilizado para representar uma sequência **imutável** de valores. Uma tupla é criada colocando valores separados por vírgulas entre parênteses. Os valores podem ser de qualquer tipo.\n",
    "\n",
    "1. O uso de tuplas em Python é muito comum quando se deseja armazenar um conjunto de valores que não devem ser modificados.\n",
    "\n",
    "2. As tuplas são utilizadas em diversas situações, como por exemplo, na representação de coordenadas geográficas (latitude e longitude), na definição de cores em sistemas de design gráfico, na criação de jogos que requerem o armazenamento de posições de elementos em uma grade, entre outros."
   ]
  },
  {
   "cell_type": "markdown",
   "id": "6c221a6d",
   "metadata": {},
   "source": [
    "Criação de uma Tupla\n",
    "\n",
    "Para criar uma tupla, você pode usar parênteses e separar os elementos por vírgulas."
   ]
  },
  {
   "cell_type": "code",
   "execution_count": null,
   "id": "f1958448",
   "metadata": {},
   "outputs": [
    {
     "data": {
      "text/plain": [
       "tuple"
      ]
     },
     "execution_count": 44,
     "metadata": {},
     "output_type": "execute_result"
    }
   ],
   "source": [
    "tupla_numeros = (1,2,3,4,5,6,7,8)\n",
    "type(tupla_numeros)"
   ]
  },
  {
   "cell_type": "code",
   "execution_count": 54,
   "id": "caf7c6d9",
   "metadata": {},
   "outputs": [
    {
     "data": {
      "text/plain": [
       "('Renan', 6598726)"
      ]
     },
     "execution_count": 54,
     "metadata": {},
     "output_type": "execute_result"
    }
   ],
   "source": [
    "lista_tupla_nome = [('Bruna', 5984264), ('Renan', 6598726)]\n",
    "lista_tupla_nome[1]"
   ]
  },
  {
   "cell_type": "markdown",
   "id": "87d36d39",
   "metadata": {},
   "source": [
    "Acesso a Elementos\n",
    "\n",
    "Os elementos de uma tupla são acessados por índices, começando do 0."
   ]
  },
  {
   "cell_type": "code",
   "execution_count": 56,
   "id": "5a1c6e8f",
   "metadata": {},
   "outputs": [
    {
     "data": {
      "text/plain": [
       "3"
      ]
     },
     "execution_count": 56,
     "metadata": {},
     "output_type": "execute_result"
    }
   ],
   "source": [
    "tupla_numeros[2]"
   ]
  },
  {
   "cell_type": "code",
   "execution_count": 57,
   "id": "dffed15f",
   "metadata": {},
   "outputs": [
    {
     "data": {
      "text/plain": [
       "8"
      ]
     },
     "execution_count": 57,
     "metadata": {},
     "output_type": "execute_result"
    }
   ],
   "source": [
    "tupla_numeros[-1]"
   ]
  },
  {
   "cell_type": "markdown",
   "id": "b1e648c5",
   "metadata": {},
   "source": [
    "Fatiamento (Slicing) de uma Tupla\n",
    "\n",
    "Você pode extrair partes de uma tupla usando a notação de fatiamento."
   ]
  },
  {
   "cell_type": "code",
   "execution_count": null,
   "id": "f2f90a7f",
   "metadata": {},
   "outputs": [],
   "source": [
    "tupla_numeros[1:3]"
   ]
  },
  {
   "cell_type": "markdown",
   "id": "a78acac3",
   "metadata": {},
   "source": [
    "Concatenação de Tuplas\n",
    "\n",
    "Concatene tuplas usando o operador +."
   ]
  },
  {
   "cell_type": "code",
   "execution_count": 59,
   "id": "2cea697b",
   "metadata": {},
   "outputs": [
    {
     "data": {
      "text/plain": [
       "(1, 2, 3, 4, 5, 6, 7, 8, 10, 12, 14, 16)"
      ]
     },
     "execution_count": 59,
     "metadata": {},
     "output_type": "execute_result"
    }
   ],
   "source": [
    "tupla_numeros_pares = (10,12,14,16)\n",
    "\n",
    "tupla_numeros + tupla_numeros_pares"
   ]
  },
  {
   "cell_type": "markdown",
   "id": "32f53d2c",
   "metadata": {},
   "source": [
    "Imutabilidade\n",
    "\n",
    "Tentativas de modificar elementos de uma tupla resultarão em erro."
   ]
  },
  {
   "cell_type": "code",
   "execution_count": 60,
   "id": "32d496da",
   "metadata": {},
   "outputs": [
    {
     "ename": "TypeError",
     "evalue": "'tuple' object does not support item assignment",
     "output_type": "error",
     "traceback": [
      "\u001b[1;31m---------------------------------------------------------------------------\u001b[0m",
      "\u001b[1;31mTypeError\u001b[0m                                 Traceback (most recent call last)",
      "Cell \u001b[1;32mIn[60], line 1\u001b[0m\n\u001b[1;32m----> 1\u001b[0m \u001b[43mtupla_numeros\u001b[49m\u001b[43m[\u001b[49m\u001b[38;5;241;43m0\u001b[39;49m\u001b[43m]\u001b[49m \u001b[38;5;241m=\u001b[39m \u001b[38;5;241m2\u001b[39m\n",
      "\u001b[1;31mTypeError\u001b[0m: 'tuple' object does not support item assignment"
     ]
    }
   ],
   "source": [
    "tupla_numeros[0] = 2"
   ]
  },
  {
   "cell_type": "markdown",
   "id": "c0b287a2",
   "metadata": {},
   "source": [
    "***"
   ]
  },
  {
   "cell_type": "markdown",
   "id": "03c3b87b",
   "metadata": {},
   "source": [
    "##### Dicionário (dict)\n",
    "O tipo de dado dicionário (dict) em Python é uma estrutura de dados que armazena valores em pares de chave-valor.\n",
    "\n",
    "Os dicionários em Python são estruturas de dados que permitem armazenar pares chave-valor, onde cada valor é associado a uma chave única. Eles são muito úteis para representar dados estruturados e indexados por chaves significativas, facilitando o acesso e a manipulação dos dados. Aqui estão algumas características importantes dos dicionários\n",
    "\n",
    "\n",
    "- Chaves Únicas: Cada chave em um dicionário é única, o que significa que não pode haver duas chaves iguais no mesmo dicionário. No entanto, os valores associados às chaves podem ser duplicados.\n",
    "\n",
    "- Mutabilidade: Os dicionários são mutáveis, o que significa que você pode adicionar, modificar e remover pares chave-valor após a criação do dicionário.\n",
    "\n",
    "- Flexibilidade: Os valores em um dicionário podem ser de qualquer tipo de dado, incluindo inteiros, strings, floats, listas, tuplas, conjuntos, outros dicionários e até mesmo funções.\n",
    "\n",
    "- Indexação por Chaves: Os elementos em um dicionário são acessados não por índices numéricos, como em listas e tuplas, mas sim por meio de chaves significativas."
   ]
  },
  {
   "cell_type": "markdown",
   "id": "ed0fcba8",
   "metadata": {},
   "source": [
    "Criação de um Dicionário\n",
    "\n",
    "Para criar um dicionário, você pode usar chaves {} e especificar pares chave-valor separados por vírgulas."
   ]
  },
  {
   "cell_type": "code",
   "execution_count": 61,
   "id": "795b7059",
   "metadata": {},
   "outputs": [],
   "source": [
    "pessoa = {\n",
    "    'nome': 'Bruna',\n",
    "    'idade': 23,\n",
    "    'cidade': 'São paulo'\n",
    "}"
   ]
  },
  {
   "cell_type": "code",
   "execution_count": 62,
   "id": "e31d1446",
   "metadata": {},
   "outputs": [
    {
     "name": "stdout",
     "output_type": "stream",
     "text": [
      "{'nome': 'Bruna', 'idade': 23, 'cidade': 'São paulo'}\n"
     ]
    }
   ],
   "source": [
    "print(pessoa)"
   ]
  },
  {
   "cell_type": "markdown",
   "id": "790f178b",
   "metadata": {},
   "source": [
    "Acesso a Elementos por Chave\n",
    "\n",
    "Os elementos em um dicionário são acessados por suas chaves."
   ]
  },
  {
   "cell_type": "code",
   "execution_count": 63,
   "id": "2eb4efc1",
   "metadata": {},
   "outputs": [
    {
     "data": {
      "text/plain": [
       "'Bruna'"
      ]
     },
     "execution_count": 63,
     "metadata": {},
     "output_type": "execute_result"
    }
   ],
   "source": [
    "pessoa['nome']"
   ]
  },
  {
   "cell_type": "code",
   "execution_count": 64,
   "id": "b60493f3",
   "metadata": {},
   "outputs": [
    {
     "data": {
      "text/plain": [
       "'São paulo'"
      ]
     },
     "execution_count": 64,
     "metadata": {},
     "output_type": "execute_result"
    }
   ],
   "source": [
    "pessoa['cidade']"
   ]
  },
  {
   "cell_type": "markdown",
   "id": "f535dbd5",
   "metadata": {},
   "source": [
    "Adição de Novos Pares Chave-Valor\n",
    "\n",
    "Você pode adicionar novos pares chave-valor a um dicionário atribuindo um valor a uma nova chave."
   ]
  },
  {
   "cell_type": "code",
   "execution_count": 65,
   "id": "140beb78",
   "metadata": {},
   "outputs": [],
   "source": [
    "pessoa['profissão'] = 'Analista'"
   ]
  },
  {
   "cell_type": "code",
   "execution_count": 66,
   "id": "6ac9351b",
   "metadata": {},
   "outputs": [
    {
     "data": {
      "text/plain": [
       "{'nome': 'Bruna', 'idade': 23, 'cidade': 'São paulo', 'profissão': 'Analista'}"
      ]
     },
     "execution_count": 66,
     "metadata": {},
     "output_type": "execute_result"
    }
   ],
   "source": [
    "pessoa"
   ]
  },
  {
   "cell_type": "markdown",
   "id": "b3fff67b",
   "metadata": {},
   "source": [
    "Modificação de Valores de Chaves Existentes\n",
    "\n",
    "Você pode modificar o valor associado a uma chave existente atribuindo um novo valor a essa chave."
   ]
  },
  {
   "cell_type": "code",
   "execution_count": 67,
   "id": "83cb5c0d",
   "metadata": {},
   "outputs": [],
   "source": [
    "pessoa['cidade'] = 'Rio de Janeiro'"
   ]
  },
  {
   "cell_type": "code",
   "execution_count": 68,
   "id": "8dcd3d7f",
   "metadata": {},
   "outputs": [
    {
     "data": {
      "text/plain": [
       "{'nome': 'Bruna',\n",
       " 'idade': 23,\n",
       " 'cidade': 'Rio de Janeiro',\n",
       " 'profissão': 'Analista'}"
      ]
     },
     "execution_count": 68,
     "metadata": {},
     "output_type": "execute_result"
    }
   ],
   "source": [
    "pessoa"
   ]
  },
  {
   "cell_type": "markdown",
   "id": "b8fd11ef",
   "metadata": {},
   "source": [
    "Remoção de Pares Chave-Valor\n",
    "\n",
    "Você pode remover pares chave-valor de um dicionário usando o comando del seguido da chave que deseja remover."
   ]
  },
  {
   "cell_type": "code",
   "execution_count": 69,
   "id": "9231a592",
   "metadata": {},
   "outputs": [],
   "source": [
    "del pessoa['cidade']"
   ]
  },
  {
   "cell_type": "code",
   "execution_count": 70,
   "id": "39497e93",
   "metadata": {},
   "outputs": [
    {
     "name": "stdout",
     "output_type": "stream",
     "text": [
      "{'nome': 'Bruna', 'idade': 23, 'profissão': 'Analista'}\n"
     ]
    }
   ],
   "source": [
    "print(pessoa)"
   ]
  },
  {
   "cell_type": "markdown",
   "id": "7d1387c8",
   "metadata": {},
   "source": [
    "Iteração sobre Chaves e Valores\n",
    "\n",
    "Você pode iterar sobre as chaves, os valores ou ambos em um dicionário usando loops for.\n",
    "\n",
    "Note: aqui estamos consultando as chaves que temos dentro desse dicionário \"pessoa\""
   ]
  },
  {
   "cell_type": "code",
   "execution_count": 71,
   "id": "3282f4ae",
   "metadata": {},
   "outputs": [
    {
     "name": "stdout",
     "output_type": "stream",
     "text": [
      "nome\n",
      "idade\n",
      "profissão\n"
     ]
    }
   ],
   "source": [
    "for chave in pessoa:\n",
    "    print(chave)\n"
   ]
  },
  {
   "cell_type": "markdown",
   "id": "ae03b98f",
   "metadata": {},
   "source": [
    "Note: aqui estamos consultando os valores que temos dentro desse dicionário \"pessoa\""
   ]
  },
  {
   "cell_type": "code",
   "execution_count": 72,
   "id": "e84d329b",
   "metadata": {},
   "outputs": [
    {
     "name": "stdout",
     "output_type": "stream",
     "text": [
      "Bruna\n",
      "23\n",
      "Analista\n"
     ]
    }
   ],
   "source": [
    "for valor in pessoa.values():\n",
    "    print(valor)"
   ]
  },
  {
   "cell_type": "markdown",
   "id": "da62e9f3",
   "metadata": {},
   "source": [
    "Criando uma lista de dicionários\n",
    "\n",
    "As listas de dicionários são úteis para armazenar e manipular coleções de regustros com vários campos. Elas podem ser usadas em muitas aplicações, como por exemplo: banco de dados em memória, análise de dados, processamento de rtexto e configurações de aplicativos."
   ]
  },
  {
   "cell_type": "code",
   "execution_count": 75,
   "id": "17dfb9e0",
   "metadata": {},
   "outputs": [],
   "source": [
    "lista_dicionarios = []\n",
    "\n",
    "pessoa1 = {\n",
    "    'nome': 'Bruna',\n",
    "    'idade': 23\n",
    "}"
   ]
  },
  {
   "cell_type": "code",
   "execution_count": 76,
   "id": "2d2ef8c4",
   "metadata": {},
   "outputs": [
    {
     "name": "stdout",
     "output_type": "stream",
     "text": [
      "[{'nome': 'Bruna', 'idade': 23}]\n"
     ]
    }
   ],
   "source": [
    "lista_dicionarios.append(pessoa1)\n",
    "print(lista_dicionarios)"
   ]
  },
  {
   "cell_type": "code",
   "execution_count": 77,
   "id": "08298caa",
   "metadata": {},
   "outputs": [],
   "source": [
    "pessoa2 = {\n",
    "    'nome': 'Renan',\n",
    "    'idade': 26\n",
    "}\n",
    "\n",
    "pessoa3 = {\n",
    "    'nome': 'Ester',\n",
    "    'idade': 23\n",
    "}"
   ]
  },
  {
   "cell_type": "code",
   "execution_count": 78,
   "id": "95ef0719",
   "metadata": {},
   "outputs": [
    {
     "name": "stdout",
     "output_type": "stream",
     "text": [
      "[{'nome': 'Bruna', 'idade': 23}, {'nome': 'Renan', 'idade': 26}]\n"
     ]
    }
   ],
   "source": [
    "lista_dicionarios.append(pessoa2)\n",
    "print(lista_dicionarios)"
   ]
  },
  {
   "cell_type": "code",
   "execution_count": 79,
   "id": "84a01727",
   "metadata": {},
   "outputs": [
    {
     "name": "stdout",
     "output_type": "stream",
     "text": [
      "[{'nome': 'Bruna', 'idade': 23}, {'nome': 'Renan', 'idade': 26}, {'nome': 'Ester', 'idade': 23}]\n"
     ]
    }
   ],
   "source": [
    "lista_dicionarios.append(pessoa3)\n",
    "print(lista_dicionarios)"
   ]
  },
  {
   "cell_type": "markdown",
   "id": "673cb47d",
   "metadata": {},
   "source": [
    "Alterando valor em uma lista de dicionário"
   ]
  },
  {
   "cell_type": "code",
   "execution_count": 80,
   "id": "5c2e4050",
   "metadata": {},
   "outputs": [],
   "source": [
    "lista_dicionarios[1]['cidade'] = 'BH'"
   ]
  },
  {
   "cell_type": "code",
   "execution_count": 81,
   "id": "290e8795",
   "metadata": {},
   "outputs": [
    {
     "data": {
      "text/plain": [
       "{'nome': 'Renan', 'idade': 26, 'cidade': 'BH'}"
      ]
     },
     "execution_count": 81,
     "metadata": {},
     "output_type": "execute_result"
    }
   ],
   "source": [
    "lista_dicionarios[1]"
   ]
  },
  {
   "cell_type": "code",
   "execution_count": 82,
   "id": "4974634d",
   "metadata": {},
   "outputs": [
    {
     "data": {
      "text/plain": [
       "[{'nome': 'Bruna', 'idade': 23},\n",
       " {'nome': 'Renan', 'idade': 26, 'cidade': 'BH'},\n",
       " {'nome': 'Ester', 'idade': 23}]"
      ]
     },
     "execution_count": 82,
     "metadata": {},
     "output_type": "execute_result"
    }
   ],
   "source": [
    "lista_dicionarios"
   ]
  },
  {
   "cell_type": "code",
   "execution_count": 83,
   "id": "9b8447ed",
   "metadata": {},
   "outputs": [],
   "source": [
    "lista_dicionarios[0]['contato'] = [468451694, 169469664]"
   ]
  },
  {
   "cell_type": "code",
   "execution_count": 84,
   "id": "48a62a0b",
   "metadata": {},
   "outputs": [
    {
     "data": {
      "text/plain": [
       "[{'nome': 'Bruna', 'idade': 23, 'contato': [468451694, 169469664]},\n",
       " {'nome': 'Renan', 'idade': 26, 'cidade': 'BH'},\n",
       " {'nome': 'Ester', 'idade': 23}]"
      ]
     },
     "execution_count": 84,
     "metadata": {},
     "output_type": "execute_result"
    }
   ],
   "source": [
    "lista_dicionarios"
   ]
  }
 ],
 "metadata": {
  "kernelspec": {
   "display_name": "AULA",
   "language": "python",
   "name": "python3"
  },
  "language_info": {
   "codemirror_mode": {
    "name": "ipython",
    "version": 3
   },
   "file_extension": ".py",
   "mimetype": "text/x-python",
   "name": "python",
   "nbconvert_exporter": "python",
   "pygments_lexer": "ipython3",
   "version": "3.13.0"
  }
 },
 "nbformat": 4,
 "nbformat_minor": 5
}
