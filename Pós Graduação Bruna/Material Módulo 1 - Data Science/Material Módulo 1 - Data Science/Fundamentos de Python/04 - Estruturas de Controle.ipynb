{
 "cells": [
  {
   "cell_type": "markdown",
   "id": "592f918a",
   "metadata": {},
   "source": [
    "# Estruturas de controle\n",
    "****\n",
    "\n",
    "As estruturas de controle são essenciais em programação para controlar o fluxo de execução do código. Duas das estruturas mais fundamentais são as estruturas condicionais e de repetição."
   ]
  },
  {
   "cell_type": "markdown",
   "id": "7eb794f2",
   "metadata": {},
   "source": [
    "### Estruturas Condicionais\n",
    "As estruturas condicionais permitem que um programa tome decisões com base em condições específicas. Em Python, a estrutura condicional básica é o if, que pode ser estendido com elif e else para lidar com múltiplas condições."
   ]
  },
  {
   "cell_type": "markdown",
   "id": "9ac8dd15",
   "metadata": {},
   "source": [
    "Exemplo 1: Verificação de Idade para Entrada em um Bar"
   ]
  },
  {
   "cell_type": "code",
   "execution_count": 3,
   "id": "e970def1",
   "metadata": {},
   "outputs": [
    {
     "name": "stdout",
     "output_type": "stream",
     "text": [
      "Pode entrar no bar\n"
     ]
    }
   ],
   "source": [
    "idade = 18\n",
    "if idade >= 18:\n",
    "    print('Pode entrar no bar')\n",
    "else:\n",
    "    print('Não pode entrar no bar')"
   ]
  },
  {
   "cell_type": "markdown",
   "id": "8c828ce2",
   "metadata": {},
   "source": [
    "Exemplo 2: Classificação de Números\n",
    "\n",
    "Note: o elif é uma palavra-chave que permite testar várias condições em uma estrutura de controle de fluxo condicional. O elif é uma abreviação de \"else if\" e é usado para especificar condições adicionais a serem testadas após a instrução if inicial"
   ]
  },
  {
   "cell_type": "code",
   "execution_count": 7,
   "id": "dd9ad2db",
   "metadata": {},
   "outputs": [
    {
     "name": "stdout",
     "output_type": "stream",
     "text": [
      "Positivo\n"
     ]
    }
   ],
   "source": [
    "numero = 15\n",
    "if numero > 0:\n",
    "    print('Positivo')\n",
    "elif numero < 0:\n",
    "    print('Negativo')\n",
    "else:\n",
    "    print(0)"
   ]
  },
  {
   "cell_type": "markdown",
   "id": "acec2ede",
   "metadata": {},
   "source": [
    "### Estruturas de Repetição\n",
    "As estruturas de repetição permitem que um conjunto de instruções seja executado repetidamente enquanto uma condição é verdadeira. Em Python, temos os loops for e while."
   ]
  },
  {
   "cell_type": "markdown",
   "id": "2528a127",
   "metadata": {},
   "source": [
    "Exemplo 1: Impressão de Números Pares com Loop For\n",
    "\n",
    "Note: a função range( ) é utilizada para gerar uma sequência numérica, com incremento opcional ou diferença entre valores, dentro de um intervalo determinado"
   ]
  },
  {
   "cell_type": "code",
   "execution_count": 11,
   "id": "c5e4b5bb",
   "metadata": {},
   "outputs": [
    {
     "name": "stdout",
     "output_type": "stream",
     "text": [
      "0\n",
      "1\n",
      "2\n",
      "3\n",
      "4\n",
      "5\n",
      "6\n",
      "7\n",
      "8\n",
      "9\n",
      "10\n",
      "11\n",
      "12\n",
      "13\n",
      "14\n",
      "15\n",
      "16\n",
      "17\n",
      "18\n",
      "19\n"
     ]
    }
   ],
   "source": [
    "for numero in range(0,20):\n",
    "    print(numero)"
   ]
  },
  {
   "cell_type": "markdown",
   "id": "141dfc44",
   "metadata": {},
   "source": [
    "Exemplo 2: Impressão de tarefas em uma lista\n",
    "\n",
    "Note: a função for em Python é uma estrutura de repetição utilizada para percorrer uma sequência (como uma lista, tupla, string ou intervalo numérico) e realizar um conjunto de operações em cada item da sequência. Neste exemplo, temos uma lista chamada lista_tarefas. A estrutura for é usada para percorrer cada elemento da lista, e a variável tarefa recebe cada valor da lista durante cada interação. O resultado desse código será a impressão de cada tarefa da lista"
   ]
  },
  {
   "cell_type": "code",
   "execution_count": 13,
   "id": "6162ba68",
   "metadata": {},
   "outputs": [
    {
     "name": "stdout",
     "output_type": "stream",
     "text": [
      "Acordar as 06:00\n",
      "Estudar\n",
      "Academia\n",
      "Trabalhar\n"
     ]
    }
   ],
   "source": [
    "lista_tarefas = ['Acordar as 06:00', 'Estudar', 'Academia','Trabalhar']\n",
    "for tarefa in lista_tarefas:\n",
    "    print(tarefa)"
   ]
  },
  {
   "cell_type": "markdown",
   "id": "b32d481d",
   "metadata": {},
   "source": [
    "Exemplo 3: Impressão de tarefas em uma lista com indice"
   ]
  },
  {
   "cell_type": "code",
   "execution_count": 16,
   "id": "11a9160a",
   "metadata": {},
   "outputs": [
    {
     "name": "stdout",
     "output_type": "stream",
     "text": [
      "1 - Acordar as 06:00\n",
      "2 - Estudar\n",
      "3 - Academia\n",
      "4 - Trabalhar\n"
     ]
    }
   ],
   "source": [
    "for indice, tarefa in enumerate(lista_tarefas , start=1):\n",
    "    print(indice, '-', tarefa)"
   ]
  },
  {
   "cell_type": "markdown",
   "id": "c109d5ac",
   "metadata": {},
   "source": [
    "Exemplo 4: Impressão de dados em dicionário\n",
    "\n",
    "Note: Os dicionários são coleções de itens e seus elementos são armazenados de forma não ordenada. Uma chave que vai servir para indexar (posicionar) determinado elemento no dicionário, e um valor que pode conter listas, inteiros, strings etc."
   ]
  },
  {
   "cell_type": "code",
   "execution_count": 31,
   "id": "ceb11fd4",
   "metadata": {},
   "outputs": [],
   "source": [
    "dicionario_nome = {\n",
    "    'nome': 'Bruna',\n",
    "    'profissao': 'Analista',\n",
    "    'cidade': 'São Paulo'\n",
    "}"
   ]
  },
  {
   "cell_type": "markdown",
   "id": "c18bc19a",
   "metadata": {},
   "source": [
    "Note: \".items\" vai trazer tanto o chave quanto o valor em lista"
   ]
  },
  {
   "cell_type": "code",
   "execution_count": 33,
   "id": "adee4a74",
   "metadata": {},
   "outputs": [
    {
     "name": "stdout",
     "output_type": "stream",
     "text": [
      "nome Bruna\n",
      "profissao Analista\n",
      "cidade São Paulo\n"
     ]
    }
   ],
   "source": [
    "for chave, valor in dicionario_nome.items():\n",
    "    print(chave, valor)"
   ]
  },
  {
   "cell_type": "markdown",
   "id": "bc649db7",
   "metadata": {},
   "source": [
    "Exemplo 5: Impressão de dados em uma lista de dicionários"
   ]
  },
  {
   "cell_type": "code",
   "execution_count": 37,
   "id": "2a0239ba",
   "metadata": {},
   "outputs": [
    {
     "name": "stdout",
     "output_type": "stream",
     "text": [
      "[{'nome': 'Bruna', 'cidade': 'São Paulo'}, {'nome': 'Renan', 'cidade': 'Santo André'}, {'nome': 'Nadir', 'cidade': 'São Paulo'}, {'nome': 'José', 'cidade': 'São Paulo'}]\n"
     ]
    }
   ],
   "source": [
    "lista_dicionarios = [\n",
    "    {'nome': 'Bruna', 'cidade': 'São Paulo'},\n",
    "    {'nome': 'Renan', 'cidade': 'Santo André'},\n",
    "    {'nome': 'Nadir', 'cidade': 'São Paulo'},\n",
    "    {'nome': 'José', 'cidade': 'São Paulo'}\n",
    "]\n",
    "print(lista_dicionarios)"
   ]
  },
  {
   "cell_type": "code",
   "execution_count": 41,
   "id": "c7780d70",
   "metadata": {},
   "outputs": [
    {
     "name": "stdout",
     "output_type": "stream",
     "text": [
      "\n",
      "          Indice: 1\n",
      "          Nome: Bruna\n",
      "          Cidade:São Paulo\n",
      "\n",
      "\n",
      "          Indice: 2\n",
      "          Nome: Renan\n",
      "          Cidade:Santo André\n",
      "\n",
      "\n",
      "          Indice: 3\n",
      "          Nome: Nadir\n",
      "          Cidade:São Paulo\n",
      "\n",
      "\n",
      "          Indice: 4\n",
      "          Nome: José\n",
      "          Cidade:São Paulo\n",
      "\n"
     ]
    }
   ],
   "source": [
    "for indice, pessoa in enumerate(lista_dicionarios, start=1):\n",
    "    print(f'''\n",
    "          Indice: {indice}\n",
    "          Nome: {pessoa['nome']}\n",
    "          Cidade:{pessoa['cidade']}\n",
    "''')"
   ]
  },
  {
   "cell_type": "markdown",
   "id": "e3130e7a",
   "metadata": {},
   "source": [
    "Exemplo 6: Soma dos Números de 1 a 10 com Loop While:"
   ]
  },
  {
   "cell_type": "code",
   "execution_count": 42,
   "id": "2a5851f7",
   "metadata": {},
   "outputs": [
    {
     "name": "stdout",
     "output_type": "stream",
     "text": [
      "5050\n"
     ]
    }
   ],
   "source": [
    "soma = 0\n",
    "contador = 1\n",
    "\n",
    "while contador <= 100:\n",
    "    soma += contador\n",
    "    contador +=1\n",
    "print(soma)"
   ]
  },
  {
   "cell_type": "markdown",
   "id": "fb682bc9",
   "metadata": {},
   "source": [
    "Exemplo 7: Busca em uma Lista com Loop For:"
   ]
  },
  {
   "cell_type": "code",
   "execution_count": 48,
   "metadata": {},
   "outputs": [
    {
     "name": "stdout",
     "output_type": "stream",
     "text": [
      "Nome encontrado\n"
     ]
    }
   ],
   "source": [
    "lista_nomes = ['Bruna', 'Renan', 'Ana', 'José']\n",
    "nome_busca = 'Bruna'\n",
    "encontrado = False\n",
    "\n",
    "for nome in lista_nomes:\n",
    "    if nome == nome_busca:\n",
    "        print('Nome encontrado')\n",
    "        encontrado = True\n",
    "        break\n",
    "    if not encontrado:\n",
    "        print('Não encontrado na lista')"
   ]
  },
  {
   "cell_type": "markdown",
   "id": "4db8b719",
   "metadata": {},
   "source": [
    "Exemplo 8: Compreensão de Listas (List Comprehension)\n",
    "\n",
    "A compreensão de listas é uma maneira concisa de criar listas em Python, geralmente usando loops for. Ela permite criar listas de forma mais eficiente e legível.\n",
    "\n",
    "Note: O metodo append() sempre irá adicionar um novo elemento no final de uma lista, imaginando como se esse elemento entrasse no final de uma fila, ou seja, não será adicionado no lugar de outro elemento existente na lista"
   ]
  },
  {
   "cell_type": "code",
   "execution_count": 54,
   "id": "3e956543",
   "metadata": {},
   "outputs": [
    {
     "name": "stdout",
     "output_type": "stream",
     "text": [
      "[0, 2, 4, 6, 8, 10, 12, 14, 16, 18, 20, 22, 24, 26, 28, 30, 32, 34, 36, 38, 40, 42, 44, 46, 48, 50, 52, 54, 56, 58, 60, 62, 64, 66, 68, 70, 72, 74, 76, 78, 80, 82, 84, 86, 88, 90, 92, 94, 96, 98]\n"
     ]
    }
   ],
   "source": [
    "lista_numeros_pares = [ ]\n",
    "for numero in range(100):\n",
    "    if numero % 2 == 0:\n",
    "        lista_numeros_pares.append(numero)\n",
    "\n",
    "print(lista_numeros_pares)"
   ]
  },
  {
   "cell_type": "markdown",
   "id": "4593d55c",
   "metadata": {},
   "source": [
    "### Controle de exceção try-except\n",
    "Ele é usado para lidar com exceções (erros) que podem ocorrer durante a execução do código. A estrutura try-except permite que você controle o fluxo do programa, capturando exceções específicas e tratando-as de maneira apropriada, evitando interrupções inesperadas na execução do código."
   ]
  },
  {
   "cell_type": "markdown",
   "id": "b0dd314d",
   "metadata": {},
   "source": [
    "Exemplo 1: Divisão por zero"
   ]
  },
  {
   "cell_type": "code",
   "execution_count": 55,
   "id": "7dcb1b13",
   "metadata": {},
   "outputs": [
    {
     "name": "stdout",
     "output_type": "stream",
     "text": [
      "Não é possível realizar essa operação\n"
     ]
    }
   ],
   "source": [
    "try:\n",
    "    resultado = 10/0\n",
    "except ZeroDivisionError:\n",
    "    print('Não é possível realizar essa operação')"
   ]
  },
  {
   "cell_type": "markdown",
   "id": "7ec20769",
   "metadata": {},
   "source": [
    "Exemplo 2: Soma de tipos de dados diferentes"
   ]
  },
  {
   "cell_type": "code",
   "execution_count": 56,
   "id": "6f0a5153",
   "metadata": {},
   "outputs": [
    {
     "name": "stdout",
     "output_type": "stream",
     "text": [
      "unsupported operand type(s) for +: 'int' and 'str'\n"
     ]
    }
   ],
   "source": [
    "try:\n",
    "    10 + 'texto'\n",
    "except Exception as e:\n",
    "    print(e)"
   ]
  }
 ],
 "metadata": {
  "kernelspec": {
   "display_name": "AULA",
   "language": "python",
   "name": "python3"
  },
  "language_info": {
   "codemirror_mode": {
    "name": "ipython",
    "version": 3
   },
   "file_extension": ".py",
   "mimetype": "text/x-python",
   "name": "python",
   "nbconvert_exporter": "python",
   "pygments_lexer": "ipython3",
   "version": "3.13.0"
  }
 },
 "nbformat": 4,
 "nbformat_minor": 5
}
