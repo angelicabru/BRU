{
 "cells": [
  {
   "cell_type": "markdown",
   "metadata": {},
   "source": [
    "Importação de Bibliotecas"
   ]
  },
  {
   "cell_type": "code",
   "execution_count": 1,
   "metadata": {},
   "outputs": [],
   "source": [
    "import pandas as pd\n",
    "import seaborn as sns\n",
    "import matplotlib.pyplot as plt"
   ]
  },
  {
   "cell_type": "code",
   "execution_count": 9,
   "metadata": {},
   "outputs": [],
   "source": [
    "dados_clinicos = pd.read_csv('../pesquisa de saúde/datasets/dados_clinicos.csv', sep='|')\n",
    "dados_pacientes = pd.read_csv('../pesquisa de saúde/datasets/dados_pacientes.csv', sep=';')\n",
    "dados_estados = pd.read_csv('../pesquisa de saúde/datasets/estado_regiao.csv', sep=';',\n",
    "                            encoding='latin1')"
   ]
  },
  {
   "cell_type": "code",
   "execution_count": 13,
   "metadata": {},
   "outputs": [
    {
     "data": {
      "text/html": [
       "<div>\n",
       "<style scoped>\n",
       "    .dataframe tbody tr th:only-of-type {\n",
       "        vertical-align: middle;\n",
       "    }\n",
       "\n",
       "    .dataframe tbody tr th {\n",
       "        vertical-align: top;\n",
       "    }\n",
       "\n",
       "    .dataframe thead th {\n",
       "        text-align: right;\n",
       "    }\n",
       "</style>\n",
       "<table border=\"1\" class=\"dataframe\">\n",
       "  <thead>\n",
       "    <tr style=\"text-align: right;\">\n",
       "      <th></th>\n",
       "      <th>id_estado</th>\n",
       "      <th>sigla</th>\n",
       "      <th>estado</th>\n",
       "      <th>regiao</th>\n",
       "      <th>pais</th>\n",
       "    </tr>\n",
       "  </thead>\n",
       "  <tbody>\n",
       "    <tr>\n",
       "      <th>0</th>\n",
       "      <td>1</td>\n",
       "      <td>AC</td>\n",
       "      <td>Acre</td>\n",
       "      <td>Norte</td>\n",
       "      <td>Brasil</td>\n",
       "    </tr>\n",
       "    <tr>\n",
       "      <th>1</th>\n",
       "      <td>2</td>\n",
       "      <td>AL</td>\n",
       "      <td>Alagoas</td>\n",
       "      <td>Nordeste</td>\n",
       "      <td>Brasil</td>\n",
       "    </tr>\n",
       "    <tr>\n",
       "      <th>2</th>\n",
       "      <td>3</td>\n",
       "      <td>AP</td>\n",
       "      <td>Amapá</td>\n",
       "      <td>Norte</td>\n",
       "      <td>Brasil</td>\n",
       "    </tr>\n",
       "    <tr>\n",
       "      <th>3</th>\n",
       "      <td>4</td>\n",
       "      <td>AM</td>\n",
       "      <td>Amazonas</td>\n",
       "      <td>Norte</td>\n",
       "      <td>Brasil</td>\n",
       "    </tr>\n",
       "    <tr>\n",
       "      <th>4</th>\n",
       "      <td>5</td>\n",
       "      <td>BA</td>\n",
       "      <td>Bahia</td>\n",
       "      <td>Nordeste</td>\n",
       "      <td>Brasil</td>\n",
       "    </tr>\n",
       "  </tbody>\n",
       "</table>\n",
       "</div>"
      ],
      "text/plain": [
       "   id_estado sigla    estado    regiao    pais\n",
       "0          1    AC      Acre     Norte  Brasil\n",
       "1          2    AL   Alagoas  Nordeste  Brasil\n",
       "2          3    AP     Amapá     Norte  Brasil\n",
       "3          4    AM  Amazonas     Norte  Brasil\n",
       "4          5    BA     Bahia  Nordeste  Brasil"
      ]
     },
     "execution_count": 13,
     "metadata": {},
     "output_type": "execute_result"
    }
   ],
   "source": [
    "dados_estados.head()"
   ]
  },
  {
   "cell_type": "markdown",
   "metadata": {},
   "source": [
    "Avaliação de Dados Duplicados"
   ]
  },
  {
   "cell_type": "code",
   "execution_count": 14,
   "metadata": {},
   "outputs": [],
   "source": [
    "dd_clinicos = dados_clinicos.duplicated().sum()\n",
    "dd_pacientes = dados_pacientes.duplicated().sum()\n",
    "dd_estados = dados_estados.duplicated().sum()"
   ]
  },
  {
   "cell_type": "code",
   "execution_count": 20,
   "metadata": {},
   "outputs": [
    {
     "name": "stdout",
     "output_type": "stream",
     "text": [
      "Existem        id_cliente   peso  colesterol     genero\n",
      "0               1  152.7       203.9  Masculino\n",
      "1               2  184.8       233.8  Masculino\n",
      "2               3  152.1       210.4  Masculino\n",
      "3               4  139.8       196.8  Masculino\n",
      "4               5  182.4       215.8   Feminino\n",
      "...           ...    ...         ...        ...\n",
      "10296        9996   54.4       132.0   Feminino\n",
      "10297        9997   53.6       113.4   Feminino\n",
      "10298        9998  104.2       166.0   Feminino\n",
      "10299        9999   73.7       151.6   Feminino\n",
      "10300       10000  189.0       238.6  Masculino\n",
      "\n",
      "[10000 rows x 4 columns] dados duplicados no dataframe dados_clinicos.\n",
      "Existem       id_cliente  idade            classe_trabalho             escolaridade  \\\n",
      "0              1     39           Servidor Público    Ensino Médio Completo   \n",
      "1              2     50                   Autônomo      Superior Incompleto   \n",
      "2              3     38  Funcionário Setor Privado  Ensino Médio Incompleto   \n",
      "3              4     53  Funcionário Setor Privado  Ensino Médio Incompleto   \n",
      "4              5     28  Funcionário Setor Privado    Ensino Médio Completo   \n",
      "...          ...    ...                        ...                      ...   \n",
      "8079        7995     23  Funcionário Setor Privado    Ensino Médio Completo   \n",
      "8080        7996     19  Funcionário Setor Privado  Ensino Médio Incompleto   \n",
      "8081        7997     44                        NaN    Ensino Médio Completo   \n",
      "8082        7998     20  Funcionário Setor Privado  Ensino Médio Incompleto   \n",
      "8083        7999     41  Funcionário Setor Privado    Ensino Médio Completo   \n",
      "\n",
      "      id_estado estado_civil    raca  qtde_filhos  salario  \n",
      "0             2     Solteiro  Branco          2.0     4754  \n",
      "1            24       Casado  Branco          1.0     3923  \n",
      "2             4   Divorciado  Branco          0.0     1100  \n",
      "3            24       Casado   Negro          1.0     1100  \n",
      "4            15       Casado   Negro          0.0     3430  \n",
      "...         ...          ...     ...          ...      ...  \n",
      "8079          7       Casado   Negro          3.0     2856  \n",
      "8080          5     Solteiro  Branco          1.0     1100  \n",
      "8081         23       Casado  Branco          0.0     3729  \n",
      "8082          8     Solteiro   Negro          0.0     1100  \n",
      "8083         13       Casado  Branco          1.0     2579  \n",
      "\n",
      "[7999 rows x 9 columns] dados duplicados no dataframe dados_pacientes.\n",
      "Existem     id_estado sigla               estado        regiao    pais\n",
      "0           1    AC                 Acre         Norte  Brasil\n",
      "1           2    AL              Alagoas      Nordeste  Brasil\n",
      "2           3    AP                Amapá         Norte  Brasil\n",
      "3           4    AM             Amazonas         Norte  Brasil\n",
      "4           5    BA                Bahia      Nordeste  Brasil\n",
      "5           6    CE                Ceará      Nordeste  Brasil\n",
      "6           7    DF     Distrito Federal  Centro-Oeste  Brasil\n",
      "7           8    ES       Espírito Santo       Sudeste  Brasil\n",
      "8           9    GO                Goiás  Centro-Oeste  Brasil\n",
      "9          10    MA             Maranhão      Nordeste  Brasil\n",
      "10         11    MT          Mato Grosso  Centro-Oeste  Brasil\n",
      "11         12    MS   Mato Grosso do Sul  Centro-Oeste  Brasil\n",
      "12         13    MG         Minas Gerais       Sudeste  Brasil\n",
      "13         14    PA                 Pará         Norte  Brasil\n",
      "14         15    PB              Paraíba      Nordeste  Brasil\n",
      "15         16    PR               Paraná           Sul  Brasil\n",
      "16         17    PE           Pernambuco      Nordeste  Brasil\n",
      "17         18    PI                Piauí      Nordeste  Brasil\n",
      "27         19    RJ       Rio de Janeiro       Sudeste  Brasil\n",
      "28         20    RN  Rio Grande do Norte      Nordeste  Brasil\n",
      "29         21    RS    Rio Grande do Sul           Sul  Brasil\n",
      "30         22    RO             Rondônia         Norte  Brasil\n",
      "31         23    RR              Roraima         Norte  Brasil\n",
      "32         24    SC       Santa Catarina           Sul  Brasil\n",
      "33         25    SP            São Paulo       Sudeste  Brasil\n",
      "34         26    SE              Sergipe      Nordeste  Brasil\n",
      "35         27    TO            Tocantins         Norte  Brasil dados duplicados no dataframe dados_clinicos.\n"
     ]
    }
   ],
   "source": [
    "print(f'''Existem {dd_clinicos} dados duplicados no dataframe dados_clinicos.\n",
    "Existem {dd_pacientes} dados duplicados no dataframe dados_pacientes.\n",
    "Existem {dd_estados} dados duplicados no dataframe dados_clinicos.''')"
   ]
  },
  {
   "cell_type": "markdown",
   "metadata": {},
   "source": [
    "Correção dos Dados Duplicados"
   ]
  },
  {
   "cell_type": "code",
   "execution_count": 18,
   "metadata": {},
   "outputs": [],
   "source": [
    "dados_clinicos = dados_clinicos.drop_duplicates()\n",
    "dados_pacientes = dados_pacientes.drop_duplicates()\n",
    "dados_estados = dados_estados.drop_duplicates()"
   ]
  },
  {
   "cell_type": "code",
   "execution_count": 21,
   "metadata": {},
   "outputs": [],
   "source": [
    "dd_clinicos = dados_clinicos.duplicated().sum()\n",
    "dd_pacientes = dados_pacientes.duplicated().sum()\n",
    "dd_estados = dados_estados.duplicated().sum()"
   ]
  },
  {
   "cell_type": "code",
   "execution_count": 22,
   "metadata": {},
   "outputs": [
    {
     "name": "stdout",
     "output_type": "stream",
     "text": [
      "Existem 0 dados duplicados no dataframe dados_clinicos.\n",
      "Existem 0 dados duplicados no dataframe dados_pacientes.\n",
      "Existem 0 dados duplicados no dataframe dados_clinicos.\n"
     ]
    }
   ],
   "source": [
    "print(f'''Existem {dd_clinicos} dados duplicados no dataframe dados_clinicos.\n",
    "Existem {dd_pacientes} dados duplicados no dataframe dados_pacientes.\n",
    "Existem {dd_estados} dados duplicados no dataframe dados_clinicos.''')"
   ]
  },
  {
   "cell_type": "markdown",
   "metadata": {},
   "source": [
    "Analisando Dados Ausentes"
   ]
  },
  {
   "cell_type": "code",
   "execution_count": 30,
   "metadata": {},
   "outputs": [],
   "source": [
    "def verifica_dados_ausentes(nome_dataframe, dataframe):\n",
    "    dados_ausentes = dataframe.isna().sum()\n",
    "    colunas_com_ausentes = dados_ausentes[dados_ausentes > 0]\n",
    "    print('--' * 50)\n",
    "    if not colunas_com_ausentes.empty:\n",
    "        print(f'O dataframe {nome_dataframe} possui dados ausentes.\\nLista de colunas:')\n",
    "        return print(colunas_com_ausentes)\n",
    "    else:\n",
    "        print(f'O dataframe {nome_dataframe} não possui dados ausentes.')"
   ]
  },
  {
   "cell_type": "code",
   "execution_count": 31,
   "metadata": {},
   "outputs": [
    {
     "name": "stdout",
     "output_type": "stream",
     "text": [
      "----------------------------------------------------------------------------------------------------\n",
      "O dataframe Dados Clinicos possui dados ausentes.\n",
      "Lista de colunas:\n",
      "peso      13\n",
      "genero    10\n",
      "dtype: int64\n",
      "----------------------------------------------------------------------------------------------------\n",
      "O dataframe Dados Pacientes possui dados ausentes.\n",
      "Lista de colunas:\n",
      "classe_trabalho    387\n",
      "qtde_filhos         10\n",
      "dtype: int64\n",
      "----------------------------------------------------------------------------------------------------\n",
      "O dataframe Dados Estados não possui dados ausentes.\n"
     ]
    }
   ],
   "source": [
    "verifica_dados_ausentes('Dados Clinicos', dataframe=dados_clinicos)\n",
    "verifica_dados_ausentes('Dados Pacientes', dataframe=dados_pacientes)\n",
    "verifica_dados_ausentes('Dados Estados', dataframe=dados_estados)"
   ]
  },
  {
   "cell_type": "markdown",
   "metadata": {},
   "source": [
    "Corrigindo Dados Ausentes\n",
    "1. Mediana para variáveis numéricas\n",
    "2. Moda para as variáveis categóricas"
   ]
  },
  {
   "cell_type": "code",
   "execution_count": 33,
   "metadata": {},
   "outputs": [
    {
     "data": {
      "text/html": [
       "<div>\n",
       "<style scoped>\n",
       "    .dataframe tbody tr th:only-of-type {\n",
       "        vertical-align: middle;\n",
       "    }\n",
       "\n",
       "    .dataframe tbody tr th {\n",
       "        vertical-align: top;\n",
       "    }\n",
       "\n",
       "    .dataframe thead th {\n",
       "        text-align: right;\n",
       "    }\n",
       "</style>\n",
       "<table border=\"1\" class=\"dataframe\">\n",
       "  <thead>\n",
       "    <tr style=\"text-align: right;\">\n",
       "      <th></th>\n",
       "      <th>id_cliente</th>\n",
       "      <th>peso</th>\n",
       "      <th>colesterol</th>\n",
       "      <th>genero</th>\n",
       "    </tr>\n",
       "  </thead>\n",
       "  <tbody>\n",
       "    <tr>\n",
       "      <th>10224</th>\n",
       "      <td>9924</td>\n",
       "      <td>NaN</td>\n",
       "      <td>201.1</td>\n",
       "      <td>Feminino</td>\n",
       "    </tr>\n",
       "    <tr>\n",
       "      <th>10225</th>\n",
       "      <td>9925</td>\n",
       "      <td>NaN</td>\n",
       "      <td>225.2</td>\n",
       "      <td>Masculino</td>\n",
       "    </tr>\n",
       "    <tr>\n",
       "      <th>10230</th>\n",
       "      <td>9930</td>\n",
       "      <td>NaN</td>\n",
       "      <td>134.9</td>\n",
       "      <td>Feminino</td>\n",
       "    </tr>\n",
       "    <tr>\n",
       "      <th>10231</th>\n",
       "      <td>9931</td>\n",
       "      <td>NaN</td>\n",
       "      <td>237.5</td>\n",
       "      <td>Feminino</td>\n",
       "    </tr>\n",
       "    <tr>\n",
       "      <th>10243</th>\n",
       "      <td>9943</td>\n",
       "      <td>NaN</td>\n",
       "      <td>219.3</td>\n",
       "      <td>Feminino</td>\n",
       "    </tr>\n",
       "  </tbody>\n",
       "</table>\n",
       "</div>"
      ],
      "text/plain": [
       "       id_cliente  peso  colesterol     genero\n",
       "10224        9924   NaN       201.1   Feminino\n",
       "10225        9925   NaN       225.2  Masculino\n",
       "10230        9930   NaN       134.9   Feminino\n",
       "10231        9931   NaN       237.5   Feminino\n",
       "10243        9943   NaN       219.3   Feminino"
      ]
     },
     "execution_count": 33,
     "metadata": {},
     "output_type": "execute_result"
    }
   ],
   "source": [
    "filtro = dados_clinicos['peso'].isna()\n",
    "index_ausentes_peso = dados_clinicos[filtro].index\n",
    "dados_clinicos.loc[index_ausentes_peso].head()"
   ]
  },
  {
   "cell_type": "markdown",
   "metadata": {},
   "source": [
    "Correção dos dados de Peso"
   ]
  },
  {
   "cell_type": "code",
   "execution_count": 34,
   "metadata": {},
   "outputs": [
    {
     "name": "stdout",
     "output_type": "stream",
     "text": [
      "A mediana dos pessoas das pessoas é 124.6.\n"
     ]
    },
    {
     "name": "stderr",
     "output_type": "stream",
     "text": [
      "C:\\Users\\renan\\AppData\\Local\\Temp\\ipykernel_20700\\3423269563.py:3: SettingWithCopyWarning: \n",
      "A value is trying to be set on a copy of a slice from a DataFrame.\n",
      "Try using .loc[row_indexer,col_indexer] = value instead\n",
      "\n",
      "See the caveats in the documentation: https://pandas.pydata.org/pandas-docs/stable/user_guide/indexing.html#returning-a-view-versus-a-copy\n",
      "  dados_clinicos['peso'] = dados_clinicos['peso'].fillna(value=mediana)\n"
     ]
    }
   ],
   "source": [
    "mediana = dados_clinicos['peso'].median()\n",
    "print(f'A mediana dos pessoas das pessoas é {mediana}.')\n",
    "dados_clinicos['peso'] = dados_clinicos['peso'].fillna(value=mediana)"
   ]
  },
  {
   "cell_type": "markdown",
   "metadata": {},
   "source": [
    "Analisando dados após a correção"
   ]
  },
  {
   "cell_type": "code",
   "execution_count": 35,
   "metadata": {},
   "outputs": [
    {
     "data": {
      "text/html": [
       "<div>\n",
       "<style scoped>\n",
       "    .dataframe tbody tr th:only-of-type {\n",
       "        vertical-align: middle;\n",
       "    }\n",
       "\n",
       "    .dataframe tbody tr th {\n",
       "        vertical-align: top;\n",
       "    }\n",
       "\n",
       "    .dataframe thead th {\n",
       "        text-align: right;\n",
       "    }\n",
       "</style>\n",
       "<table border=\"1\" class=\"dataframe\">\n",
       "  <thead>\n",
       "    <tr style=\"text-align: right;\">\n",
       "      <th></th>\n",
       "      <th>id_cliente</th>\n",
       "      <th>peso</th>\n",
       "      <th>colesterol</th>\n",
       "      <th>genero</th>\n",
       "    </tr>\n",
       "  </thead>\n",
       "  <tbody>\n",
       "    <tr>\n",
       "      <th>10224</th>\n",
       "      <td>9924</td>\n",
       "      <td>124.6</td>\n",
       "      <td>201.1</td>\n",
       "      <td>Feminino</td>\n",
       "    </tr>\n",
       "    <tr>\n",
       "      <th>10225</th>\n",
       "      <td>9925</td>\n",
       "      <td>124.6</td>\n",
       "      <td>225.2</td>\n",
       "      <td>Masculino</td>\n",
       "    </tr>\n",
       "    <tr>\n",
       "      <th>10230</th>\n",
       "      <td>9930</td>\n",
       "      <td>124.6</td>\n",
       "      <td>134.9</td>\n",
       "      <td>Feminino</td>\n",
       "    </tr>\n",
       "    <tr>\n",
       "      <th>10231</th>\n",
       "      <td>9931</td>\n",
       "      <td>124.6</td>\n",
       "      <td>237.5</td>\n",
       "      <td>Feminino</td>\n",
       "    </tr>\n",
       "    <tr>\n",
       "      <th>10243</th>\n",
       "      <td>9943</td>\n",
       "      <td>124.6</td>\n",
       "      <td>219.3</td>\n",
       "      <td>Feminino</td>\n",
       "    </tr>\n",
       "  </tbody>\n",
       "</table>\n",
       "</div>"
      ],
      "text/plain": [
       "       id_cliente   peso  colesterol     genero\n",
       "10224        9924  124.6       201.1   Feminino\n",
       "10225        9925  124.6       225.2  Masculino\n",
       "10230        9930  124.6       134.9   Feminino\n",
       "10231        9931  124.6       237.5   Feminino\n",
       "10243        9943  124.6       219.3   Feminino"
      ]
     },
     "execution_count": 35,
     "metadata": {},
     "output_type": "execute_result"
    }
   ],
   "source": [
    "dados_clinicos.loc[index_ausentes_peso].head()"
   ]
  },
  {
   "cell_type": "markdown",
   "metadata": {},
   "source": [
    "Analisando dados antes da correção: Gênero"
   ]
  },
  {
   "cell_type": "code",
   "execution_count": 36,
   "metadata": {},
   "outputs": [
    {
     "data": {
      "text/html": [
       "<div>\n",
       "<style scoped>\n",
       "    .dataframe tbody tr th:only-of-type {\n",
       "        vertical-align: middle;\n",
       "    }\n",
       "\n",
       "    .dataframe tbody tr th {\n",
       "        vertical-align: top;\n",
       "    }\n",
       "\n",
       "    .dataframe thead th {\n",
       "        text-align: right;\n",
       "    }\n",
       "</style>\n",
       "<table border=\"1\" class=\"dataframe\">\n",
       "  <thead>\n",
       "    <tr style=\"text-align: right;\">\n",
       "      <th></th>\n",
       "      <th>id_cliente</th>\n",
       "      <th>peso</th>\n",
       "      <th>colesterol</th>\n",
       "      <th>genero</th>\n",
       "    </tr>\n",
       "  </thead>\n",
       "  <tbody>\n",
       "    <tr>\n",
       "      <th>10227</th>\n",
       "      <td>9927</td>\n",
       "      <td>177.6</td>\n",
       "      <td>220.3</td>\n",
       "      <td>NaN</td>\n",
       "    </tr>\n",
       "    <tr>\n",
       "      <th>10228</th>\n",
       "      <td>9928</td>\n",
       "      <td>149.3</td>\n",
       "      <td>199.3</td>\n",
       "      <td>NaN</td>\n",
       "    </tr>\n",
       "    <tr>\n",
       "      <th>10233</th>\n",
       "      <td>9933</td>\n",
       "      <td>65.3</td>\n",
       "      <td>132.8</td>\n",
       "      <td>NaN</td>\n",
       "    </tr>\n",
       "    <tr>\n",
       "      <th>10234</th>\n",
       "      <td>9934</td>\n",
       "      <td>180.6</td>\n",
       "      <td>214.1</td>\n",
       "      <td>NaN</td>\n",
       "    </tr>\n",
       "    <tr>\n",
       "      <th>10237</th>\n",
       "      <td>9937</td>\n",
       "      <td>103.6</td>\n",
       "      <td>160.8</td>\n",
       "      <td>NaN</td>\n",
       "    </tr>\n",
       "  </tbody>\n",
       "</table>\n",
       "</div>"
      ],
      "text/plain": [
       "       id_cliente   peso  colesterol genero\n",
       "10227        9927  177.6       220.3    NaN\n",
       "10228        9928  149.3       199.3    NaN\n",
       "10233        9933   65.3       132.8    NaN\n",
       "10234        9934  180.6       214.1    NaN\n",
       "10237        9937  103.6       160.8    NaN"
      ]
     },
     "execution_count": 36,
     "metadata": {},
     "output_type": "execute_result"
    }
   ],
   "source": [
    "filtro = dados_clinicos['genero'].isna()\n",
    "index_ausentes_genero = dados_clinicos[filtro].index\n",
    "dados_clinicos.loc[index_ausentes_genero].head()"
   ]
  },
  {
   "cell_type": "code",
   "execution_count": 43,
   "metadata": {},
   "outputs": [
    {
     "name": "stdout",
     "output_type": "stream",
     "text": [
      "A moda do gênero das pessoas é Feminino.\n"
     ]
    },
    {
     "name": "stderr",
     "output_type": "stream",
     "text": [
      "C:\\Users\\renan\\AppData\\Local\\Temp\\ipykernel_20700\\3833047026.py:3: SettingWithCopyWarning: \n",
      "A value is trying to be set on a copy of a slice from a DataFrame.\n",
      "Try using .loc[row_indexer,col_indexer] = value instead\n",
      "\n",
      "See the caveats in the documentation: https://pandas.pydata.org/pandas-docs/stable/user_guide/indexing.html#returning-a-view-versus-a-copy\n",
      "  dados_clinicos['genero'] = dados_clinicos['genero'].fillna(value=moda)\n"
     ]
    }
   ],
   "source": [
    "moda = dados_clinicos['genero'].mode()[0]\n",
    "print(f'A moda do gênero das pessoas é {moda}.')\n",
    "dados_clinicos['genero'] = dados_clinicos['genero'].fillna(value=moda)"
   ]
  },
  {
   "cell_type": "markdown",
   "metadata": {},
   "source": [
    "Analisando dados após a correção"
   ]
  },
  {
   "cell_type": "code",
   "execution_count": 44,
   "metadata": {},
   "outputs": [
    {
     "data": {
      "text/html": [
       "<div>\n",
       "<style scoped>\n",
       "    .dataframe tbody tr th:only-of-type {\n",
       "        vertical-align: middle;\n",
       "    }\n",
       "\n",
       "    .dataframe tbody tr th {\n",
       "        vertical-align: top;\n",
       "    }\n",
       "\n",
       "    .dataframe thead th {\n",
       "        text-align: right;\n",
       "    }\n",
       "</style>\n",
       "<table border=\"1\" class=\"dataframe\">\n",
       "  <thead>\n",
       "    <tr style=\"text-align: right;\">\n",
       "      <th></th>\n",
       "      <th>id_cliente</th>\n",
       "      <th>peso</th>\n",
       "      <th>colesterol</th>\n",
       "      <th>genero</th>\n",
       "    </tr>\n",
       "  </thead>\n",
       "  <tbody>\n",
       "    <tr>\n",
       "      <th>10227</th>\n",
       "      <td>9927</td>\n",
       "      <td>Feminino</td>\n",
       "      <td>220.3</td>\n",
       "      <td>Feminino</td>\n",
       "    </tr>\n",
       "    <tr>\n",
       "      <th>10228</th>\n",
       "      <td>9928</td>\n",
       "      <td>Feminino</td>\n",
       "      <td>199.3</td>\n",
       "      <td>Feminino</td>\n",
       "    </tr>\n",
       "    <tr>\n",
       "      <th>10233</th>\n",
       "      <td>9933</td>\n",
       "      <td>Feminino</td>\n",
       "      <td>132.8</td>\n",
       "      <td>Feminino</td>\n",
       "    </tr>\n",
       "    <tr>\n",
       "      <th>10234</th>\n",
       "      <td>9934</td>\n",
       "      <td>Feminino</td>\n",
       "      <td>214.1</td>\n",
       "      <td>Feminino</td>\n",
       "    </tr>\n",
       "    <tr>\n",
       "      <th>10237</th>\n",
       "      <td>9937</td>\n",
       "      <td>Feminino</td>\n",
       "      <td>160.8</td>\n",
       "      <td>Feminino</td>\n",
       "    </tr>\n",
       "  </tbody>\n",
       "</table>\n",
       "</div>"
      ],
      "text/plain": [
       "       id_cliente      peso  colesterol    genero\n",
       "10227        9927  Feminino       220.3  Feminino\n",
       "10228        9928  Feminino       199.3  Feminino\n",
       "10233        9933  Feminino       132.8  Feminino\n",
       "10234        9934  Feminino       214.1  Feminino\n",
       "10237        9937  Feminino       160.8  Feminino"
      ]
     },
     "execution_count": 44,
     "metadata": {},
     "output_type": "execute_result"
    }
   ],
   "source": [
    "dados_clinicos.loc[index_ausentes_genero].head()"
   ]
  },
  {
   "cell_type": "markdown",
   "metadata": {},
   "source": [
    "Analisando dados antes da correção: Classe de trabalho"
   ]
  },
  {
   "cell_type": "code",
   "execution_count": 46,
   "metadata": {},
   "outputs": [
    {
     "data": {
      "text/html": [
       "<div>\n",
       "<style scoped>\n",
       "    .dataframe tbody tr th:only-of-type {\n",
       "        vertical-align: middle;\n",
       "    }\n",
       "\n",
       "    .dataframe tbody tr th {\n",
       "        vertical-align: top;\n",
       "    }\n",
       "\n",
       "    .dataframe thead th {\n",
       "        text-align: right;\n",
       "    }\n",
       "</style>\n",
       "<table border=\"1\" class=\"dataframe\">\n",
       "  <thead>\n",
       "    <tr style=\"text-align: right;\">\n",
       "      <th></th>\n",
       "      <th>id_cliente</th>\n",
       "      <th>idade</th>\n",
       "      <th>classe_trabalho</th>\n",
       "      <th>escolaridade</th>\n",
       "      <th>id_estado</th>\n",
       "      <th>estado_civil</th>\n",
       "      <th>raca</th>\n",
       "      <th>qtde_filhos</th>\n",
       "      <th>salario</th>\n",
       "    </tr>\n",
       "  </thead>\n",
       "  <tbody>\n",
       "    <tr>\n",
       "      <th>61</th>\n",
       "      <td>62</td>\n",
       "      <td>32</td>\n",
       "      <td>NaN</td>\n",
       "      <td>Ensino Fundamental Incompleto</td>\n",
       "      <td>12</td>\n",
       "      <td>União Estável</td>\n",
       "      <td>Branco</td>\n",
       "      <td>4.0</td>\n",
       "      <td>1100</td>\n",
       "    </tr>\n",
       "    <tr>\n",
       "      <th>69</th>\n",
       "      <td>70</td>\n",
       "      <td>25</td>\n",
       "      <td>NaN</td>\n",
       "      <td>Ensino Médio Completo</td>\n",
       "      <td>1</td>\n",
       "      <td>Solteiro</td>\n",
       "      <td>Branco</td>\n",
       "      <td>3.0</td>\n",
       "      <td>3450</td>\n",
       "    </tr>\n",
       "    <tr>\n",
       "      <th>127</th>\n",
       "      <td>128</td>\n",
       "      <td>35</td>\n",
       "      <td>NaN</td>\n",
       "      <td>Ensino Médio Incompleto</td>\n",
       "      <td>1</td>\n",
       "      <td>Casado</td>\n",
       "      <td>Amarelo</td>\n",
       "      <td>4.0</td>\n",
       "      <td>1100</td>\n",
       "    </tr>\n",
       "    <tr>\n",
       "      <th>148</th>\n",
       "      <td>149</td>\n",
       "      <td>43</td>\n",
       "      <td>NaN</td>\n",
       "      <td>Ensino Médio Completo</td>\n",
       "      <td>21</td>\n",
       "      <td>Divorciado</td>\n",
       "      <td>Branco</td>\n",
       "      <td>0.0</td>\n",
       "      <td>2490</td>\n",
       "    </tr>\n",
       "    <tr>\n",
       "      <th>153</th>\n",
       "      <td>154</td>\n",
       "      <td>52</td>\n",
       "      <td>NaN</td>\n",
       "      <td>Ensino Médio Incompleto</td>\n",
       "      <td>18</td>\n",
       "      <td>Divorciado</td>\n",
       "      <td>Branco</td>\n",
       "      <td>1.0</td>\n",
       "      <td>1100</td>\n",
       "    </tr>\n",
       "  </tbody>\n",
       "</table>\n",
       "</div>"
      ],
      "text/plain": [
       "     id_cliente  idade classe_trabalho                   escolaridade  \\\n",
       "61           62     32             NaN  Ensino Fundamental Incompleto   \n",
       "69           70     25             NaN          Ensino Médio Completo   \n",
       "127         128     35             NaN        Ensino Médio Incompleto   \n",
       "148         149     43             NaN          Ensino Médio Completo   \n",
       "153         154     52             NaN        Ensino Médio Incompleto   \n",
       "\n",
       "     id_estado   estado_civil     raca  qtde_filhos  salario  \n",
       "61          12  União Estável   Branco          4.0     1100  \n",
       "69           1       Solteiro   Branco          3.0     3450  \n",
       "127          1         Casado  Amarelo          4.0     1100  \n",
       "148         21     Divorciado   Branco          0.0     2490  \n",
       "153         18     Divorciado   Branco          1.0     1100  "
      ]
     },
     "execution_count": 46,
     "metadata": {},
     "output_type": "execute_result"
    }
   ],
   "source": [
    "filtro = dados_pacientes['classe_trabalho'].isna()\n",
    "index_ausentes_classe_trabalho = dados_pacientes[filtro].index\n",
    "dados_pacientes.loc[index_ausentes_classe_trabalho].head()"
   ]
  },
  {
   "cell_type": "markdown",
   "metadata": {},
   "source": [
    "Correção da variável classe de trabalho"
   ]
  },
  {
   "cell_type": "code",
   "execution_count": 51,
   "metadata": {},
   "outputs": [
    {
     "name": "stdout",
     "output_type": "stream",
     "text": [
      "A moda da classe de trabalho das pessoas é Funcionário Setor Privado.\n"
     ]
    }
   ],
   "source": [
    "moda = dados_pacientes['classe_trabalho'].mode()[0]\n",
    "print(f'A moda da classe de trabalho das pessoas é {moda}.')\n",
    "dados_pacientes['classe_trabalho'] = dados_pacientes['classe_trabalho'].fillna(value=moda)"
   ]
  },
  {
   "cell_type": "code",
   "execution_count": 52,
   "metadata": {},
   "outputs": [
    {
     "data": {
      "text/html": [
       "<div>\n",
       "<style scoped>\n",
       "    .dataframe tbody tr th:only-of-type {\n",
       "        vertical-align: middle;\n",
       "    }\n",
       "\n",
       "    .dataframe tbody tr th {\n",
       "        vertical-align: top;\n",
       "    }\n",
       "\n",
       "    .dataframe thead th {\n",
       "        text-align: right;\n",
       "    }\n",
       "</style>\n",
       "<table border=\"1\" class=\"dataframe\">\n",
       "  <thead>\n",
       "    <tr style=\"text-align: right;\">\n",
       "      <th></th>\n",
       "      <th>id_cliente</th>\n",
       "      <th>idade</th>\n",
       "      <th>classe_trabalho</th>\n",
       "      <th>escolaridade</th>\n",
       "      <th>id_estado</th>\n",
       "      <th>estado_civil</th>\n",
       "      <th>raca</th>\n",
       "      <th>qtde_filhos</th>\n",
       "      <th>salario</th>\n",
       "      <th>genero</th>\n",
       "    </tr>\n",
       "  </thead>\n",
       "  <tbody>\n",
       "    <tr>\n",
       "      <th>61</th>\n",
       "      <td>62</td>\n",
       "      <td>32</td>\n",
       "      <td>Funcionário Setor Privado</td>\n",
       "      <td>Ensino Fundamental Incompleto</td>\n",
       "      <td>12</td>\n",
       "      <td>União Estável</td>\n",
       "      <td>Branco</td>\n",
       "      <td>4.0</td>\n",
       "      <td>1100</td>\n",
       "      <td>Masculino</td>\n",
       "    </tr>\n",
       "    <tr>\n",
       "      <th>69</th>\n",
       "      <td>70</td>\n",
       "      <td>25</td>\n",
       "      <td>Funcionário Setor Privado</td>\n",
       "      <td>Ensino Médio Completo</td>\n",
       "      <td>1</td>\n",
       "      <td>Solteiro</td>\n",
       "      <td>Branco</td>\n",
       "      <td>3.0</td>\n",
       "      <td>3450</td>\n",
       "      <td>Feminino</td>\n",
       "    </tr>\n",
       "    <tr>\n",
       "      <th>127</th>\n",
       "      <td>128</td>\n",
       "      <td>35</td>\n",
       "      <td>Funcionário Setor Privado</td>\n",
       "      <td>Ensino Médio Incompleto</td>\n",
       "      <td>1</td>\n",
       "      <td>Casado</td>\n",
       "      <td>Amarelo</td>\n",
       "      <td>4.0</td>\n",
       "      <td>1100</td>\n",
       "      <td>Feminino</td>\n",
       "    </tr>\n",
       "    <tr>\n",
       "      <th>148</th>\n",
       "      <td>149</td>\n",
       "      <td>43</td>\n",
       "      <td>Funcionário Setor Privado</td>\n",
       "      <td>Ensino Médio Completo</td>\n",
       "      <td>21</td>\n",
       "      <td>Divorciado</td>\n",
       "      <td>Branco</td>\n",
       "      <td>0.0</td>\n",
       "      <td>2490</td>\n",
       "      <td>Masculino</td>\n",
       "    </tr>\n",
       "    <tr>\n",
       "      <th>153</th>\n",
       "      <td>154</td>\n",
       "      <td>52</td>\n",
       "      <td>Funcionário Setor Privado</td>\n",
       "      <td>Ensino Médio Incompleto</td>\n",
       "      <td>18</td>\n",
       "      <td>Divorciado</td>\n",
       "      <td>Branco</td>\n",
       "      <td>1.0</td>\n",
       "      <td>1100</td>\n",
       "      <td>Masculino</td>\n",
       "    </tr>\n",
       "  </tbody>\n",
       "</table>\n",
       "</div>"
      ],
      "text/plain": [
       "     id_cliente  idade            classe_trabalho  \\\n",
       "61           62     32  Funcionário Setor Privado   \n",
       "69           70     25  Funcionário Setor Privado   \n",
       "127         128     35  Funcionário Setor Privado   \n",
       "148         149     43  Funcionário Setor Privado   \n",
       "153         154     52  Funcionário Setor Privado   \n",
       "\n",
       "                      escolaridade  id_estado   estado_civil     raca  \\\n",
       "61   Ensino Fundamental Incompleto         12  União Estável   Branco   \n",
       "69           Ensino Médio Completo          1       Solteiro   Branco   \n",
       "127        Ensino Médio Incompleto          1         Casado  Amarelo   \n",
       "148          Ensino Médio Completo         21     Divorciado   Branco   \n",
       "153        Ensino Médio Incompleto         18     Divorciado   Branco   \n",
       "\n",
       "     qtde_filhos  salario     genero  \n",
       "61           4.0     1100  Masculino  \n",
       "69           3.0     3450   Feminino  \n",
       "127          4.0     1100   Feminino  \n",
       "148          0.0     2490  Masculino  \n",
       "153          1.0     1100  Masculino  "
      ]
     },
     "execution_count": 52,
     "metadata": {},
     "output_type": "execute_result"
    }
   ],
   "source": [
    "dados_pacientes.loc[index_ausentes_classe_trabalho].head()"
   ]
  },
  {
   "cell_type": "markdown",
   "metadata": {},
   "source": [
    "Analisando dados ausentes de quantidade de filhos antes da correção dos dados"
   ]
  },
  {
   "cell_type": "code",
   "execution_count": 53,
   "metadata": {},
   "outputs": [
    {
     "data": {
      "text/html": [
       "<div>\n",
       "<style scoped>\n",
       "    .dataframe tbody tr th:only-of-type {\n",
       "        vertical-align: middle;\n",
       "    }\n",
       "\n",
       "    .dataframe tbody tr th {\n",
       "        vertical-align: top;\n",
       "    }\n",
       "\n",
       "    .dataframe thead th {\n",
       "        text-align: right;\n",
       "    }\n",
       "</style>\n",
       "<table border=\"1\" class=\"dataframe\">\n",
       "  <thead>\n",
       "    <tr style=\"text-align: right;\">\n",
       "      <th></th>\n",
       "      <th>id_cliente</th>\n",
       "      <th>idade</th>\n",
       "      <th>classe_trabalho</th>\n",
       "      <th>escolaridade</th>\n",
       "      <th>id_estado</th>\n",
       "      <th>estado_civil</th>\n",
       "      <th>raca</th>\n",
       "      <th>qtde_filhos</th>\n",
       "      <th>salario</th>\n",
       "      <th>genero</th>\n",
       "    </tr>\n",
       "  </thead>\n",
       "  <tbody>\n",
       "    <tr>\n",
       "      <th>12</th>\n",
       "      <td>13</td>\n",
       "      <td>23</td>\n",
       "      <td>Funcionário Setor Privado</td>\n",
       "      <td>Pós-Graduado</td>\n",
       "      <td>22</td>\n",
       "      <td>Solteiro</td>\n",
       "      <td>Branco</td>\n",
       "      <td>NaN</td>\n",
       "      <td>5316</td>\n",
       "      <td>Feminino</td>\n",
       "    </tr>\n",
       "    <tr>\n",
       "      <th>20</th>\n",
       "      <td>21</td>\n",
       "      <td>40</td>\n",
       "      <td>Funcionário Setor Privado</td>\n",
       "      <td>Doutorado</td>\n",
       "      <td>8</td>\n",
       "      <td>Casado</td>\n",
       "      <td>Branco</td>\n",
       "      <td>NaN</td>\n",
       "      <td>12535</td>\n",
       "      <td>Masculino</td>\n",
       "    </tr>\n",
       "    <tr>\n",
       "      <th>189</th>\n",
       "      <td>190</td>\n",
       "      <td>38</td>\n",
       "      <td>Funcionário Setor Privado</td>\n",
       "      <td>Ensino Médio Completo</td>\n",
       "      <td>27</td>\n",
       "      <td>Divorciado</td>\n",
       "      <td>Negro</td>\n",
       "      <td>NaN</td>\n",
       "      <td>2369</td>\n",
       "      <td>Feminino</td>\n",
       "    </tr>\n",
       "    <tr>\n",
       "      <th>233</th>\n",
       "      <td>234</td>\n",
       "      <td>28</td>\n",
       "      <td>Funcionário Setor Privado</td>\n",
       "      <td>Mestrado</td>\n",
       "      <td>26</td>\n",
       "      <td>Solteiro</td>\n",
       "      <td>Branco</td>\n",
       "      <td>NaN</td>\n",
       "      <td>10671</td>\n",
       "      <td>Feminino</td>\n",
       "    </tr>\n",
       "    <tr>\n",
       "      <th>295</th>\n",
       "      <td>296</td>\n",
       "      <td>37</td>\n",
       "      <td>MEI</td>\n",
       "      <td>Ensino Médio Completo</td>\n",
       "      <td>18</td>\n",
       "      <td>Divorciado</td>\n",
       "      <td>Branco</td>\n",
       "      <td>NaN</td>\n",
       "      <td>4300</td>\n",
       "      <td>Masculino</td>\n",
       "    </tr>\n",
       "  </tbody>\n",
       "</table>\n",
       "</div>"
      ],
      "text/plain": [
       "     id_cliente  idade            classe_trabalho           escolaridade  \\\n",
       "12           13     23  Funcionário Setor Privado           Pós-Graduado   \n",
       "20           21     40  Funcionário Setor Privado              Doutorado   \n",
       "189         190     38  Funcionário Setor Privado  Ensino Médio Completo   \n",
       "233         234     28  Funcionário Setor Privado               Mestrado   \n",
       "295         296     37                        MEI  Ensino Médio Completo   \n",
       "\n",
       "     id_estado estado_civil    raca  qtde_filhos  salario     genero  \n",
       "12          22     Solteiro  Branco          NaN     5316   Feminino  \n",
       "20           8       Casado  Branco          NaN    12535  Masculino  \n",
       "189         27   Divorciado   Negro          NaN     2369   Feminino  \n",
       "233         26     Solteiro  Branco          NaN    10671   Feminino  \n",
       "295         18   Divorciado  Branco          NaN     4300  Masculino  "
      ]
     },
     "execution_count": 53,
     "metadata": {},
     "output_type": "execute_result"
    }
   ],
   "source": [
    "filtro = dados_pacientes['qtde_filhos'].isna()\n",
    "index_ausentes_qtde_filhos = dados_pacientes[filtro].index\n",
    "dados_pacientes.loc[index_ausentes_qtde_filhos].head()"
   ]
  },
  {
   "cell_type": "code",
   "execution_count": 54,
   "metadata": {},
   "outputs": [
    {
     "name": "stdout",
     "output_type": "stream",
     "text": [
      "A mediana de quantidade de filhos das pessoas é 2.0.\n"
     ]
    }
   ],
   "source": [
    "mediana = dados_pacientes['qtde_filhos'].median()\n",
    "print(f'A mediana de quantidade de filhos das pessoas é {mediana}.')\n",
    "dados_pacientes['qtde_filhos'] = dados_pacientes['qtde_filhos'].fillna(value=mediana)"
   ]
  },
  {
   "cell_type": "markdown",
   "metadata": {},
   "source": [
    "Analisando dados após correção"
   ]
  },
  {
   "cell_type": "code",
   "execution_count": 55,
   "metadata": {},
   "outputs": [
    {
     "data": {
      "text/html": [
       "<div>\n",
       "<style scoped>\n",
       "    .dataframe tbody tr th:only-of-type {\n",
       "        vertical-align: middle;\n",
       "    }\n",
       "\n",
       "    .dataframe tbody tr th {\n",
       "        vertical-align: top;\n",
       "    }\n",
       "\n",
       "    .dataframe thead th {\n",
       "        text-align: right;\n",
       "    }\n",
       "</style>\n",
       "<table border=\"1\" class=\"dataframe\">\n",
       "  <thead>\n",
       "    <tr style=\"text-align: right;\">\n",
       "      <th></th>\n",
       "      <th>id_cliente</th>\n",
       "      <th>idade</th>\n",
       "      <th>classe_trabalho</th>\n",
       "      <th>escolaridade</th>\n",
       "      <th>id_estado</th>\n",
       "      <th>estado_civil</th>\n",
       "      <th>raca</th>\n",
       "      <th>qtde_filhos</th>\n",
       "      <th>salario</th>\n",
       "      <th>genero</th>\n",
       "    </tr>\n",
       "  </thead>\n",
       "  <tbody>\n",
       "    <tr>\n",
       "      <th>12</th>\n",
       "      <td>13</td>\n",
       "      <td>23</td>\n",
       "      <td>Funcionário Setor Privado</td>\n",
       "      <td>Pós-Graduado</td>\n",
       "      <td>22</td>\n",
       "      <td>Solteiro</td>\n",
       "      <td>Branco</td>\n",
       "      <td>2.0</td>\n",
       "      <td>5316</td>\n",
       "      <td>Feminino</td>\n",
       "    </tr>\n",
       "    <tr>\n",
       "      <th>20</th>\n",
       "      <td>21</td>\n",
       "      <td>40</td>\n",
       "      <td>Funcionário Setor Privado</td>\n",
       "      <td>Doutorado</td>\n",
       "      <td>8</td>\n",
       "      <td>Casado</td>\n",
       "      <td>Branco</td>\n",
       "      <td>2.0</td>\n",
       "      <td>12535</td>\n",
       "      <td>Masculino</td>\n",
       "    </tr>\n",
       "    <tr>\n",
       "      <th>189</th>\n",
       "      <td>190</td>\n",
       "      <td>38</td>\n",
       "      <td>Funcionário Setor Privado</td>\n",
       "      <td>Ensino Médio Completo</td>\n",
       "      <td>27</td>\n",
       "      <td>Divorciado</td>\n",
       "      <td>Negro</td>\n",
       "      <td>2.0</td>\n",
       "      <td>2369</td>\n",
       "      <td>Feminino</td>\n",
       "    </tr>\n",
       "    <tr>\n",
       "      <th>233</th>\n",
       "      <td>234</td>\n",
       "      <td>28</td>\n",
       "      <td>Funcionário Setor Privado</td>\n",
       "      <td>Mestrado</td>\n",
       "      <td>26</td>\n",
       "      <td>Solteiro</td>\n",
       "      <td>Branco</td>\n",
       "      <td>2.0</td>\n",
       "      <td>10671</td>\n",
       "      <td>Feminino</td>\n",
       "    </tr>\n",
       "    <tr>\n",
       "      <th>295</th>\n",
       "      <td>296</td>\n",
       "      <td>37</td>\n",
       "      <td>MEI</td>\n",
       "      <td>Ensino Médio Completo</td>\n",
       "      <td>18</td>\n",
       "      <td>Divorciado</td>\n",
       "      <td>Branco</td>\n",
       "      <td>2.0</td>\n",
       "      <td>4300</td>\n",
       "      <td>Masculino</td>\n",
       "    </tr>\n",
       "  </tbody>\n",
       "</table>\n",
       "</div>"
      ],
      "text/plain": [
       "     id_cliente  idade            classe_trabalho           escolaridade  \\\n",
       "12           13     23  Funcionário Setor Privado           Pós-Graduado   \n",
       "20           21     40  Funcionário Setor Privado              Doutorado   \n",
       "189         190     38  Funcionário Setor Privado  Ensino Médio Completo   \n",
       "233         234     28  Funcionário Setor Privado               Mestrado   \n",
       "295         296     37                        MEI  Ensino Médio Completo   \n",
       "\n",
       "     id_estado estado_civil    raca  qtde_filhos  salario     genero  \n",
       "12          22     Solteiro  Branco          2.0     5316   Feminino  \n",
       "20           8       Casado  Branco          2.0    12535  Masculino  \n",
       "189         27   Divorciado   Negro          2.0     2369   Feminino  \n",
       "233         26     Solteiro  Branco          2.0    10671   Feminino  \n",
       "295         18   Divorciado  Branco          2.0     4300  Masculino  "
      ]
     },
     "execution_count": 55,
     "metadata": {},
     "output_type": "execute_result"
    }
   ],
   "source": [
    "dados_pacientes.loc[index_ausentes_qtde_filhos].head()"
   ]
  },
  {
   "cell_type": "markdown",
   "metadata": {},
   "source": [
    "Integração de Dados"
   ]
  },
  {
   "cell_type": "code",
   "execution_count": 56,
   "metadata": {},
   "outputs": [
    {
     "name": "stdout",
     "output_type": "stream",
     "text": [
      "(10000, 4)\n"
     ]
    },
    {
     "data": {
      "text/html": [
       "<div>\n",
       "<style scoped>\n",
       "    .dataframe tbody tr th:only-of-type {\n",
       "        vertical-align: middle;\n",
       "    }\n",
       "\n",
       "    .dataframe tbody tr th {\n",
       "        vertical-align: top;\n",
       "    }\n",
       "\n",
       "    .dataframe thead th {\n",
       "        text-align: right;\n",
       "    }\n",
       "</style>\n",
       "<table border=\"1\" class=\"dataframe\">\n",
       "  <thead>\n",
       "    <tr style=\"text-align: right;\">\n",
       "      <th></th>\n",
       "      <th>id_cliente</th>\n",
       "      <th>peso</th>\n",
       "      <th>colesterol</th>\n",
       "      <th>genero</th>\n",
       "    </tr>\n",
       "  </thead>\n",
       "  <tbody>\n",
       "    <tr>\n",
       "      <th>0</th>\n",
       "      <td>1</td>\n",
       "      <td>Masculino</td>\n",
       "      <td>203.9</td>\n",
       "      <td>Masculino</td>\n",
       "    </tr>\n",
       "    <tr>\n",
       "      <th>1</th>\n",
       "      <td>2</td>\n",
       "      <td>Masculino</td>\n",
       "      <td>233.8</td>\n",
       "      <td>Masculino</td>\n",
       "    </tr>\n",
       "  </tbody>\n",
       "</table>\n",
       "</div>"
      ],
      "text/plain": [
       "   id_cliente       peso  colesterol     genero\n",
       "0           1  Masculino       203.9  Masculino\n",
       "1           2  Masculino       233.8  Masculino"
      ]
     },
     "execution_count": 56,
     "metadata": {},
     "output_type": "execute_result"
    }
   ],
   "source": [
    "print(dados_clinicos.shape)\n",
    "dados_clinicos.head(2)"
   ]
  },
  {
   "cell_type": "code",
   "execution_count": 58,
   "metadata": {},
   "outputs": [
    {
     "name": "stdout",
     "output_type": "stream",
     "text": [
      "(7999, 10)\n"
     ]
    },
    {
     "data": {
      "text/html": [
       "<div>\n",
       "<style scoped>\n",
       "    .dataframe tbody tr th:only-of-type {\n",
       "        vertical-align: middle;\n",
       "    }\n",
       "\n",
       "    .dataframe tbody tr th {\n",
       "        vertical-align: top;\n",
       "    }\n",
       "\n",
       "    .dataframe thead th {\n",
       "        text-align: right;\n",
       "    }\n",
       "</style>\n",
       "<table border=\"1\" class=\"dataframe\">\n",
       "  <thead>\n",
       "    <tr style=\"text-align: right;\">\n",
       "      <th></th>\n",
       "      <th>id_cliente</th>\n",
       "      <th>idade</th>\n",
       "      <th>classe_trabalho</th>\n",
       "      <th>escolaridade</th>\n",
       "      <th>id_estado</th>\n",
       "      <th>estado_civil</th>\n",
       "      <th>raca</th>\n",
       "      <th>qtde_filhos</th>\n",
       "      <th>salario</th>\n",
       "      <th>genero</th>\n",
       "    </tr>\n",
       "  </thead>\n",
       "  <tbody>\n",
       "    <tr>\n",
       "      <th>0</th>\n",
       "      <td>1</td>\n",
       "      <td>39</td>\n",
       "      <td>Servidor Público</td>\n",
       "      <td>Ensino Médio Completo</td>\n",
       "      <td>2</td>\n",
       "      <td>Solteiro</td>\n",
       "      <td>Branco</td>\n",
       "      <td>2.0</td>\n",
       "      <td>4754</td>\n",
       "      <td>Masculino</td>\n",
       "    </tr>\n",
       "    <tr>\n",
       "      <th>1</th>\n",
       "      <td>2</td>\n",
       "      <td>50</td>\n",
       "      <td>Autônomo</td>\n",
       "      <td>Superior Incompleto</td>\n",
       "      <td>24</td>\n",
       "      <td>Casado</td>\n",
       "      <td>Branco</td>\n",
       "      <td>1.0</td>\n",
       "      <td>3923</td>\n",
       "      <td>Masculino</td>\n",
       "    </tr>\n",
       "  </tbody>\n",
       "</table>\n",
       "</div>"
      ],
      "text/plain": [
       "   id_cliente  idade   classe_trabalho           escolaridade  id_estado  \\\n",
       "0           1     39  Servidor Público  Ensino Médio Completo          2   \n",
       "1           2     50          Autônomo    Superior Incompleto         24   \n",
       "\n",
       "  estado_civil    raca  qtde_filhos  salario     genero  \n",
       "0     Solteiro  Branco          2.0     4754  Masculino  \n",
       "1       Casado  Branco          1.0     3923  Masculino  "
      ]
     },
     "execution_count": 58,
     "metadata": {},
     "output_type": "execute_result"
    }
   ],
   "source": [
    "print(dados_pacientes.shape)\n",
    "dados_pacientes.head(2)"
   ]
  },
  {
   "cell_type": "code",
   "execution_count": 59,
   "metadata": {},
   "outputs": [
    {
     "name": "stdout",
     "output_type": "stream",
     "text": [
      "(27, 5)\n"
     ]
    },
    {
     "data": {
      "text/html": [
       "<div>\n",
       "<style scoped>\n",
       "    .dataframe tbody tr th:only-of-type {\n",
       "        vertical-align: middle;\n",
       "    }\n",
       "\n",
       "    .dataframe tbody tr th {\n",
       "        vertical-align: top;\n",
       "    }\n",
       "\n",
       "    .dataframe thead th {\n",
       "        text-align: right;\n",
       "    }\n",
       "</style>\n",
       "<table border=\"1\" class=\"dataframe\">\n",
       "  <thead>\n",
       "    <tr style=\"text-align: right;\">\n",
       "      <th></th>\n",
       "      <th>id_estado</th>\n",
       "      <th>sigla</th>\n",
       "      <th>estado</th>\n",
       "      <th>regiao</th>\n",
       "      <th>pais</th>\n",
       "    </tr>\n",
       "  </thead>\n",
       "  <tbody>\n",
       "    <tr>\n",
       "      <th>0</th>\n",
       "      <td>1</td>\n",
       "      <td>AC</td>\n",
       "      <td>Acre</td>\n",
       "      <td>Norte</td>\n",
       "      <td>Brasil</td>\n",
       "    </tr>\n",
       "    <tr>\n",
       "      <th>1</th>\n",
       "      <td>2</td>\n",
       "      <td>AL</td>\n",
       "      <td>Alagoas</td>\n",
       "      <td>Nordeste</td>\n",
       "      <td>Brasil</td>\n",
       "    </tr>\n",
       "  </tbody>\n",
       "</table>\n",
       "</div>"
      ],
      "text/plain": [
       "   id_estado sigla   estado    regiao    pais\n",
       "0          1    AC     Acre     Norte  Brasil\n",
       "1          2    AL  Alagoas  Nordeste  Brasil"
      ]
     },
     "execution_count": 59,
     "metadata": {},
     "output_type": "execute_result"
    }
   ],
   "source": [
    "print(dados_estados.shape)\n",
    "dados_estados.head(2)"
   ]
  },
  {
   "cell_type": "code",
   "execution_count": 62,
   "metadata": {},
   "outputs": [],
   "source": [
    "df = pd.merge(left=dados_pacientes,\n",
    "right=dados_clinicos,\n",
    "left_on='id_cliente',\n",
    "right_on='id_cliente',\n",
    "how='inner')\n",
    "\n",
    "df = pd.merge(left=df,\n",
    "right=dados_estados,\n",
    "left_on='id_estado',\n",
    "right_on='id_estado',\n",
    "how='inner')\n"
   ]
  },
  {
   "cell_type": "code",
   "execution_count": 63,
   "metadata": {},
   "outputs": [
    {
     "name": "stdout",
     "output_type": "stream",
     "text": [
      "(7999, 17)\n"
     ]
    },
    {
     "data": {
      "text/html": [
       "<div>\n",
       "<style scoped>\n",
       "    .dataframe tbody tr th:only-of-type {\n",
       "        vertical-align: middle;\n",
       "    }\n",
       "\n",
       "    .dataframe tbody tr th {\n",
       "        vertical-align: top;\n",
       "    }\n",
       "\n",
       "    .dataframe thead th {\n",
       "        text-align: right;\n",
       "    }\n",
       "</style>\n",
       "<table border=\"1\" class=\"dataframe\">\n",
       "  <thead>\n",
       "    <tr style=\"text-align: right;\">\n",
       "      <th></th>\n",
       "      <th>id_cliente</th>\n",
       "      <th>idade</th>\n",
       "      <th>classe_trabalho</th>\n",
       "      <th>escolaridade</th>\n",
       "      <th>id_estado</th>\n",
       "      <th>estado_civil</th>\n",
       "      <th>raca</th>\n",
       "      <th>qtde_filhos</th>\n",
       "      <th>salario</th>\n",
       "      <th>genero_x</th>\n",
       "      <th>peso</th>\n",
       "      <th>colesterol</th>\n",
       "      <th>genero_y</th>\n",
       "      <th>sigla</th>\n",
       "      <th>estado</th>\n",
       "      <th>regiao</th>\n",
       "      <th>pais</th>\n",
       "    </tr>\n",
       "  </thead>\n",
       "  <tbody>\n",
       "    <tr>\n",
       "      <th>0</th>\n",
       "      <td>1</td>\n",
       "      <td>39</td>\n",
       "      <td>Servidor Público</td>\n",
       "      <td>Ensino Médio Completo</td>\n",
       "      <td>2</td>\n",
       "      <td>Solteiro</td>\n",
       "      <td>Branco</td>\n",
       "      <td>2.0</td>\n",
       "      <td>4754</td>\n",
       "      <td>Masculino</td>\n",
       "      <td>Masculino</td>\n",
       "      <td>203.9</td>\n",
       "      <td>Masculino</td>\n",
       "      <td>AL</td>\n",
       "      <td>Alagoas</td>\n",
       "      <td>Nordeste</td>\n",
       "      <td>Brasil</td>\n",
       "    </tr>\n",
       "    <tr>\n",
       "      <th>1</th>\n",
       "      <td>2</td>\n",
       "      <td>50</td>\n",
       "      <td>Autônomo</td>\n",
       "      <td>Superior Incompleto</td>\n",
       "      <td>24</td>\n",
       "      <td>Casado</td>\n",
       "      <td>Branco</td>\n",
       "      <td>1.0</td>\n",
       "      <td>3923</td>\n",
       "      <td>Masculino</td>\n",
       "      <td>Masculino</td>\n",
       "      <td>233.8</td>\n",
       "      <td>Masculino</td>\n",
       "      <td>SC</td>\n",
       "      <td>Santa Catarina</td>\n",
       "      <td>Sul</td>\n",
       "      <td>Brasil</td>\n",
       "    </tr>\n",
       "  </tbody>\n",
       "</table>\n",
       "</div>"
      ],
      "text/plain": [
       "   id_cliente  idade   classe_trabalho           escolaridade  id_estado  \\\n",
       "0           1     39  Servidor Público  Ensino Médio Completo          2   \n",
       "1           2     50          Autônomo    Superior Incompleto         24   \n",
       "\n",
       "  estado_civil    raca  qtde_filhos  salario   genero_x       peso  \\\n",
       "0     Solteiro  Branco          2.0     4754  Masculino  Masculino   \n",
       "1       Casado  Branco          1.0     3923  Masculino  Masculino   \n",
       "\n",
       "   colesterol   genero_y sigla          estado    regiao    pais  \n",
       "0       203.9  Masculino    AL         Alagoas  Nordeste  Brasil  \n",
       "1       233.8  Masculino    SC  Santa Catarina       Sul  Brasil  "
      ]
     },
     "execution_count": 63,
     "metadata": {},
     "output_type": "execute_result"
    }
   ],
   "source": [
    "print(df.shape)\n",
    "df.head(2)"
   ]
  },
  {
   "cell_type": "markdown",
   "metadata": {},
   "source": [
    "Crie um histograma das idades de todas as pessoas que residem no estado de São paulo e trabalham no setor privado. Utilize 20 barras para representar graficamente os dados. Em seguida, selecione a opção que melhor se adapta à visualização."
   ]
  },
  {
   "cell_type": "markdown",
   "metadata": {},
   "source": [
    "Verificando classes de trabalho existentes no datset"
   ]
  },
  {
   "cell_type": "code",
   "execution_count": 64,
   "metadata": {},
   "outputs": [
    {
     "data": {
      "text/plain": [
       "classe_trabalho\n",
       "Funcionário Setor Privado    5769\n",
       "Autônomo                      588\n",
       "Empresário                    496\n",
       "Servidor Público              299\n",
       "MEI                           275\n",
       "Aposentado                    267\n",
       "Funcionário Público           216\n",
       "Menor Aprendiz                 85\n",
       "Desempregado                    3\n",
       "Estagiário                      1\n",
       "Name: count, dtype: int64"
      ]
     },
     "execution_count": 64,
     "metadata": {},
     "output_type": "execute_result"
    }
   ],
   "source": [
    "df['classe_trabalho'].value_counts()"
   ]
  },
  {
   "cell_type": "code",
   "execution_count": 67,
   "metadata": {},
   "outputs": [
    {
     "data": {
      "text/plain": [
       "<Axes: xlabel='idade', ylabel='Count'>"
      ]
     },
     "execution_count": 67,
     "metadata": {},
     "output_type": "execute_result"
    },
    {
     "data": {
      "image/png": "[encoded data removed]",
      "text/plain": [
       "<Figure size 640x480 with 1 Axes>"
      ]
     },
     "metadata": {},
     "output_type": "display_data"
    }
   ],
   "source": [
    "filtro = (df['estado'] == 'São Paulo') & (df['classe_trabalho'] == 'Funcionário Setor Privado')\n",
    "dados_sp = df.loc[filtro]\n",
    "sns.histplot(data=dados_sp, x='idade', bins=20)"
   ]
  },
  {
   "cell_type": "markdown",
   "metadata": {},
   "source": [
    "Crie um gráfico de barras que represente a média salarial de todas as pessoas, agrupadas por raça. Em seguida, selecione a melhor representação gráfica."
   ]
  },
  {
   "cell_type": "code",
   "execution_count": 72,
   "metadata": {},
   "outputs": [
    {
     "name": "stdout",
     "output_type": "stream",
     "text": [
      "       raca      salario\n",
      "0   Amarelo  2309.410959\n",
      "1    Branco  3187.203253\n",
      "2  Indígena  3150.275000\n",
      "3     Negro  2961.061538\n",
      "4     Pardo  3601.735537\n"
     ]
    },
    {
     "data": {
      "text/plain": [
       "<Axes: xlabel='raca', ylabel='salario'>"
      ]
     },
     "execution_count": 72,
     "metadata": {},
     "output_type": "execute_result"
    },
    {
     "data": {
      "image/png": "[encoded data removed]",
      "text/plain": [
       "<Figure size 640x480 with 1 Axes>"
      ]
     },
     "metadata": {},
     "output_type": "display_data"
    }
   ],
   "source": [
    "dados = df.groupby(['raca'])['salario'].mean().reset_index()\n",
    "print(dados)\n",
    "sns.barplot(data=dados, x='raca',\n",
    "            y='salario',\n",
    "            palette='Greens',\n",
    "            hue='raca')"
   ]
  },
  {
   "cell_type": "markdown",
   "metadata": {},
   "source": [
    "Crie um gráfico de barras para visualizar a distribuição do número de pessoas residentes em Minas Gerais, agrupadas por estado civil e raça. Em seguida, selecione a melhor representação gráfica."
   ]
  },
  {
   "cell_type": "code",
   "execution_count": 76,
   "metadata": {},
   "outputs": [
    {
     "data": {
      "image/png": "[encoded data removed]",
      "text/plain": [
       "<Figure size 1000x500 with 1 Axes>"
      ]
     },
     "metadata": {},
     "output_type": "display_data"
    }
   ],
   "source": [
    "filtro = df['sigla'] == 'MG'\n",
    "\n",
    "grouped = df.loc[filtro].groupby(['estado_civil', 'raca', 'sigla'])\n",
    "dados = grouped.agg(\n",
    "    qtde = ('escolaridade', 'count')\n",
    ").reset_index()\n",
    "\n",
    "plt.figure(figsize=(10,5))\n",
    "sns.barplot(x='raca', y='qtde', hue='estado_civil', data=dados)\n",
    "plt.title('Quantidade de pessoas por estado civil e raça')\n",
    "plt.xlabel('Raça')\n",
    "plt.ylabel('Quantidade')\n",
    "plt.legend(title='Estado civil', loc='upper right')\n",
    "plt.show()"
   ]
  },
  {
   "cell_type": "markdown",
   "metadata": {},
   "source": [
    "Qual é a média e o desvio padrão do colesterol das pessoas que têm peso superior a 120 kg e residem na região Sul do Brasil?"
   ]
  },
  {
   "cell_type": "code",
   "execution_count": 87,
   "metadata": {},
   "outputs": [
    {
     "ename": "TypeError",
     "evalue": "'>' not supported between instances of 'str' and 'int'",
     "output_type": "error",
     "traceback": [
      "\u001b[1;31m---------------------------------------------------------------------------\u001b[0m",
      "\u001b[1;31mTypeError\u001b[0m                                 Traceback (most recent call last)",
      "Cell \u001b[1;32mIn[87], line 1\u001b[0m\n\u001b[1;32m----> 1\u001b[0m filtro \u001b[38;5;241m=\u001b[39m (df[\u001b[38;5;124m'\u001b[39m\u001b[38;5;124mregiao\u001b[39m\u001b[38;5;124m'\u001b[39m] \u001b[38;5;241m==\u001b[39m \u001b[38;5;124m'\u001b[39m\u001b[38;5;124mSul\u001b[39m\u001b[38;5;124m'\u001b[39m) \u001b[38;5;241m&\u001b[39m (\u001b[43mdf\u001b[49m\u001b[43m[\u001b[49m\u001b[38;5;124;43m'\u001b[39;49m\u001b[38;5;124;43mpeso\u001b[39;49m\u001b[38;5;124;43m'\u001b[39;49m\u001b[43m]\u001b[49m\u001b[43m \u001b[49m\u001b[38;5;241;43m>\u001b[39;49m\u001b[43m \u001b[49m\u001b[38;5;241;43m120\u001b[39;49m)\n\u001b[0;32m      2\u001b[0m dados \u001b[38;5;241m=\u001b[39m df\u001b[38;5;241m.\u001b[39mloc[filtro]\n\u001b[0;32m      3\u001b[0m dados[\u001b[38;5;124m'\u001b[39m\u001b[38;5;124mcolesterol\u001b[39m\u001b[38;5;124m'\u001b[39m]\u001b[38;5;241m.\u001b[39mdescribe()\u001b[38;5;241m.\u001b[39mtranspose()\n",
      "File \u001b[1;32mc:\\VIRTUALENVS\\ATIVIDADE\\Lib\\site-packages\\pandas\\core\\ops\\common.py:76\u001b[0m, in \u001b[0;36m_unpack_zerodim_and_defer.<locals>.new_method\u001b[1;34m(self, other)\u001b[0m\n\u001b[0;32m     72\u001b[0m             \u001b[38;5;28;01mreturn\u001b[39;00m \u001b[38;5;28mNotImplemented\u001b[39m\n\u001b[0;32m     74\u001b[0m other \u001b[38;5;241m=\u001b[39m item_from_zerodim(other)\n\u001b[1;32m---> 76\u001b[0m \u001b[38;5;28;01mreturn\u001b[39;00m \u001b[43mmethod\u001b[49m\u001b[43m(\u001b[49m\u001b[38;5;28;43mself\u001b[39;49m\u001b[43m,\u001b[49m\u001b[43m \u001b[49m\u001b[43mother\u001b[49m\u001b[43m)\u001b[49m\n",
      "File \u001b[1;32mc:\\VIRTUALENVS\\ATIVIDADE\\Lib\\site-packages\\pandas\\core\\arraylike.py:56\u001b[0m, in \u001b[0;36mOpsMixin.__gt__\u001b[1;34m(self, other)\u001b[0m\n\u001b[0;32m     54\u001b[0m \u001b[38;5;129m@unpack_zerodim_and_defer\u001b[39m(\u001b[38;5;124m\"\u001b[39m\u001b[38;5;124m__gt__\u001b[39m\u001b[38;5;124m\"\u001b[39m)\n\u001b[0;32m     55\u001b[0m \u001b[38;5;28;01mdef\u001b[39;00m \u001b[38;5;21m__gt__\u001b[39m(\u001b[38;5;28mself\u001b[39m, other):\n\u001b[1;32m---> 56\u001b[0m     \u001b[38;5;28;01mreturn\u001b[39;00m \u001b[38;5;28;43mself\u001b[39;49m\u001b[38;5;241;43m.\u001b[39;49m\u001b[43m_cmp_method\u001b[49m\u001b[43m(\u001b[49m\u001b[43mother\u001b[49m\u001b[43m,\u001b[49m\u001b[43m \u001b[49m\u001b[43moperator\u001b[49m\u001b[38;5;241;43m.\u001b[39;49m\u001b[43mgt\u001b[49m\u001b[43m)\u001b[49m\n",
      "File \u001b[1;32mc:\\VIRTUALENVS\\ATIVIDADE\\Lib\\site-packages\\pandas\\core\\series.py:6119\u001b[0m, in \u001b[0;36mSeries._cmp_method\u001b[1;34m(self, other, op)\u001b[0m\n\u001b[0;32m   6116\u001b[0m lvalues \u001b[38;5;241m=\u001b[39m \u001b[38;5;28mself\u001b[39m\u001b[38;5;241m.\u001b[39m_values\n\u001b[0;32m   6117\u001b[0m rvalues \u001b[38;5;241m=\u001b[39m extract_array(other, extract_numpy\u001b[38;5;241m=\u001b[39m\u001b[38;5;28;01mTrue\u001b[39;00m, extract_range\u001b[38;5;241m=\u001b[39m\u001b[38;5;28;01mTrue\u001b[39;00m)\n\u001b[1;32m-> 6119\u001b[0m res_values \u001b[38;5;241m=\u001b[39m \u001b[43mops\u001b[49m\u001b[38;5;241;43m.\u001b[39;49m\u001b[43mcomparison_op\u001b[49m\u001b[43m(\u001b[49m\u001b[43mlvalues\u001b[49m\u001b[43m,\u001b[49m\u001b[43m \u001b[49m\u001b[43mrvalues\u001b[49m\u001b[43m,\u001b[49m\u001b[43m \u001b[49m\u001b[43mop\u001b[49m\u001b[43m)\u001b[49m\n\u001b[0;32m   6121\u001b[0m \u001b[38;5;28;01mreturn\u001b[39;00m \u001b[38;5;28mself\u001b[39m\u001b[38;5;241m.\u001b[39m_construct_result(res_values, name\u001b[38;5;241m=\u001b[39mres_name)\n",
      "File \u001b[1;32mc:\\VIRTUALENVS\\ATIVIDADE\\Lib\\site-packages\\pandas\\core\\ops\\array_ops.py:344\u001b[0m, in \u001b[0;36mcomparison_op\u001b[1;34m(left, right, op)\u001b[0m\n\u001b[0;32m    341\u001b[0m     \u001b[38;5;28;01mreturn\u001b[39;00m invalid_comparison(lvalues, rvalues, op)\n\u001b[0;32m    343\u001b[0m \u001b[38;5;28;01melif\u001b[39;00m lvalues\u001b[38;5;241m.\u001b[39mdtype \u001b[38;5;241m==\u001b[39m \u001b[38;5;28mobject\u001b[39m \u001b[38;5;129;01mor\u001b[39;00m \u001b[38;5;28misinstance\u001b[39m(rvalues, \u001b[38;5;28mstr\u001b[39m):\n\u001b[1;32m--> 344\u001b[0m     res_values \u001b[38;5;241m=\u001b[39m \u001b[43mcomp_method_OBJECT_ARRAY\u001b[49m\u001b[43m(\u001b[49m\u001b[43mop\u001b[49m\u001b[43m,\u001b[49m\u001b[43m \u001b[49m\u001b[43mlvalues\u001b[49m\u001b[43m,\u001b[49m\u001b[43m \u001b[49m\u001b[43mrvalues\u001b[49m\u001b[43m)\u001b[49m\n\u001b[0;32m    346\u001b[0m \u001b[38;5;28;01melse\u001b[39;00m:\n\u001b[0;32m    347\u001b[0m     res_values \u001b[38;5;241m=\u001b[39m _na_arithmetic_op(lvalues, rvalues, op, is_cmp\u001b[38;5;241m=\u001b[39m\u001b[38;5;28;01mTrue\u001b[39;00m)\n",
      "File \u001b[1;32mc:\\VIRTUALENVS\\ATIVIDADE\\Lib\\site-packages\\pandas\\core\\ops\\array_ops.py:129\u001b[0m, in \u001b[0;36mcomp_method_OBJECT_ARRAY\u001b[1;34m(op, x, y)\u001b[0m\n\u001b[0;32m    127\u001b[0m     result \u001b[38;5;241m=\u001b[39m libops\u001b[38;5;241m.\u001b[39mvec_compare(x\u001b[38;5;241m.\u001b[39mravel(), y\u001b[38;5;241m.\u001b[39mravel(), op)\n\u001b[0;32m    128\u001b[0m \u001b[38;5;28;01melse\u001b[39;00m:\n\u001b[1;32m--> 129\u001b[0m     result \u001b[38;5;241m=\u001b[39m \u001b[43mlibops\u001b[49m\u001b[38;5;241;43m.\u001b[39;49m\u001b[43mscalar_compare\u001b[49m\u001b[43m(\u001b[49m\u001b[43mx\u001b[49m\u001b[38;5;241;43m.\u001b[39;49m\u001b[43mravel\u001b[49m\u001b[43m(\u001b[49m\u001b[43m)\u001b[49m\u001b[43m,\u001b[49m\u001b[43m \u001b[49m\u001b[43my\u001b[49m\u001b[43m,\u001b[49m\u001b[43m \u001b[49m\u001b[43mop\u001b[49m\u001b[43m)\u001b[49m\n\u001b[0;32m    130\u001b[0m \u001b[38;5;28;01mreturn\u001b[39;00m result\u001b[38;5;241m.\u001b[39mreshape(x\u001b[38;5;241m.\u001b[39mshape)\n",
      "File \u001b[1;32mops.pyx:107\u001b[0m, in \u001b[0;36mpandas._libs.ops.scalar_compare\u001b[1;34m()\u001b[0m\n",
      "\u001b[1;31mTypeError\u001b[0m: '>' not supported between instances of 'str' and 'int'"
     ]
    }
   ],
   "source": [
    "filtro = (df['regiao'] == 'Sul') & (df['peso'] > 120)\n",
    "dados = df.loc[filtro]\n",
    "dados['colesterol'].describe().transpose()"
   ]
  }
 ],
 "metadata": {
  "kernelspec": {
   "display_name": "ATIVIDADE",
   "language": "python",
   "name": "python3"
  },
  "language_info": {
   "codemirror_mode": {
    "name": "ipython",
    "version": 3
   },
   "file_extension": ".py",
   "mimetype": "text/x-python",
   "name": "python",
   "nbconvert_exporter": "python",
   "pygments_lexer": "ipython3",
   "version": "3.13.0"
  }
 },
 "nbformat": 4,
 "nbformat_minor": 2
}
