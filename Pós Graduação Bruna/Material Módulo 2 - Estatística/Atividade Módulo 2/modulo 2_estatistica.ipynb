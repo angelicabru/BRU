{
 "cells": [
  {
   "cell_type": "markdown",
   "metadata": {},
   "source": [
    "Estatística Computacional - Probabilidade com Python"
   ]
  },
  {
   "cell_type": "markdown",
   "metadata": {},
   "source": [
    "Qual o número de possibilidades ao jogar 6 números na mega sena?"
   ]
  },
  {
   "cell_type": "code",
   "execution_count": 1,
   "metadata": {},
   "outputs": [],
   "source": [
    "#Código de combinações\n",
    "import math"
   ]
  },
  {
   "cell_type": "code",
   "execution_count": 3,
   "metadata": {},
   "outputs": [
    {
     "name": "stdout",
     "output_type": "stream",
     "text": [
      "O número de combinações é: 3\n"
     ]
    }
   ],
   "source": [
    "#Exemplo 1\n",
    "#Número total de elementos (n)\n",
    "n = 3\n",
    "#Número de elementos a serem escolhidos (k)\n",
    "k = 2\n",
    "\n",
    "#Calcula o número de combinações\n",
    "combinacoes_possiveis = math.comb(n, k)\n",
    "\n",
    "print(f'O número de combinações é: {combinacoes_possiveis}')"
   ]
  },
  {
   "cell_type": "code",
   "execution_count": 5,
   "metadata": {},
   "outputs": [
    {
     "name": "stdout",
     "output_type": "stream",
     "text": [
      "O número de possibilidades ao escolher 6 números na mega sena é: 50,063,860\n"
     ]
    }
   ],
   "source": [
    "#Resolvendo o problema inicial\n",
    "#Número total de elementos (n)\n",
    "n = 60\n",
    "#Número de elementos a serem escolhidos (k)\n",
    "k = 6\n",
    "\n",
    "#Calcula o número de combinações\n",
    "combinacoes_possiveis = math.comb(n, k)\n",
    "\n",
    "print(f'O número de possibilidades ao escolher 6 números na mega sena é: {combinacoes_possiveis:,}')\n"
   ]
  },
  {
   "cell_type": "code",
   "execution_count": 14,
   "metadata": {},
   "outputs": [
    {
     "name": "stdout",
     "output_type": "stream",
     "text": [
      "O número de combinar 10 números em grupos de 6 é: 210\n"
     ]
    }
   ],
   "source": [
    "#E se eu jogar 10 números?\n",
    "#Número total de elementos (n)\n",
    "n = 60\n",
    "#Número de elementos a serem escolhidos (k)\n",
    "k = 6\n",
    "#Números jogados\n",
    "njogados = 10\n",
    "\n",
    "#Calcula o número de combinações das jogadas\n",
    "combinacoes_jogadas = math.comb(njogados, k)\n",
    "\n",
    "print(f'O número de combinar {njogados} números em grupos de 6 é: {combinacoes_jogadas}')\n"
   ]
  },
  {
   "cell_type": "code",
   "execution_count": 15,
   "metadata": {},
   "outputs": [
    {
     "name": "stdout",
     "output_type": "stream",
     "text": [
      "A probabilidade de vitória com 10 números é de 210 em: 50063860\n"
     ]
    }
   ],
   "source": [
    "#Calcula o número de combinações totais possíveis\n",
    "combinacoes_possiveis = math.comb(n, k)\n",
    "\n",
    "print(f'A probabilidade de vitória com {njogados} números é de {combinacoes_jogadas} em: {combinacoes_possiveis}')"
   ]
  },
  {
   "cell_type": "markdown",
   "metadata": {},
   "source": [
    "Trabalhando com Variáveis aleatórias discretas"
   ]
  },
  {
   "cell_type": "markdown",
   "metadata": {},
   "source": [
    "Exemplo: Ao passar 10 clientes em nossa loja, qual a probabilidade de realizarmos 2 vendas? \n",
    "\n",
    "Ou seja, queremos encontrar a probabilidade de dois sucessos, em dez tentativas, suja probabilidade de sucesso em cada tentativa é 50%."
   ]
  },
  {
   "cell_type": "code",
   "execution_count": 16,
   "metadata": {},
   "outputs": [],
   "source": [
    "from scipy.stats import binom"
   ]
  },
  {
   "cell_type": "code",
   "execution_count": 17,
   "metadata": {},
   "outputs": [
    {
     "name": "stdout",
     "output_type": "stream",
     "text": [
      "0.04394531250000005\n"
     ]
    }
   ],
   "source": [
    "#Definindo os parâmetros\n",
    "x = 2 #sucessos\n",
    "size = 10 #Tentativas\n",
    "prob = 0.5 #Prob sucesso\n",
    "\n",
    "#Calculando probabilidade\n",
    "probability = binom.pmf(x, size, prob)\n",
    "print(probability)"
   ]
  },
  {
   "cell_type": "markdown",
   "metadata": {},
   "source": [
    "Probabilidade, Probabilidade acumulada e amostragem"
   ]
  },
  {
   "cell_type": "markdown",
   "metadata": {},
   "source": [
    "A biblioteca stats utiliza pmf para probabilidade, cdf para possibilidade acumulada e rvs para uma amostra segundo a variável aleatória.\n",
    "\n",
    "binom.pmf(k, n, p) calcula a probabilidade de obter mais de k sucessos em n tentativas com a probabilidade de p sucesso em cada tentativa.\n",
    "\n",
    "binom.cdf(q, n, p) calcula o número de sucessos correspondentes à probabilidade cumulativa q em n tentativas com a probabilidade p de sucesso em cada tentativa.\n",
    "\n",
    "binom.rvs(n, p, size) gera amostras aleatórias seguindo uma distribuição binomial com n tentativas e probabilidade p de sucesso. Size refere-se ao número de amostras desejado."
   ]
  },
  {
   "cell_type": "code",
   "execution_count": 18,
   "metadata": {},
   "outputs": [],
   "source": [
    "from scipy.stats import binom"
   ]
  },
  {
   "cell_type": "code",
   "execution_count": 21,
   "metadata": {},
   "outputs": [
    {
     "name": "stdout",
     "output_type": "stream",
     "text": [
      "Probabilidade de k sucessos em 10 lançamentos:  0.04394531250000005\n"
     ]
    }
   ],
   "source": [
    "#Definindo os parâmetros\n",
    "k = 2\n",
    "n  = 10\n",
    "prob = 0.5\n",
    "\n",
    "#Calcula a probabilidade de 2 sucessos em 10 jogadas, com probabilidade 0,5 de sucesso\n",
    "probability = binom.pmf(k, n, prob)\n",
    "print('Probabilidade de k sucessos em 10 lançamentos: ', probability)"
   ]
  },
  {
   "cell_type": "code",
   "execution_count": 22,
   "metadata": {},
   "outputs": [
    {
     "name": "stdout",
     "output_type": "stream",
     "text": [
      "Probabilidade acumulada:  0.0546875\n"
     ]
    }
   ],
   "source": [
    "#Calcula a probabilidade acumulada de 2 sucessos em 10 jogadas (ou seja, de 0, 1 e 2 sucessos), com porbabilidade 0,5 de sucesso\n",
    "print('Probabilidade acumulada: ', binom.cdf(k, n, prob))"
   ]
  },
  {
   "cell_type": "code",
   "execution_count": 23,
   "metadata": {},
   "outputs": [
    {
     "name": "stdout",
     "output_type": "stream",
     "text": [
      "Somando chances de 0, 1 e 2 sucessos:  0.05468750000000005\n"
     ]
    }
   ],
   "source": [
    "#É a mesma coisa que somar as chances de 0, 1 e 2 sucessos\n",
    "print('Somando chances de 0, 1 e 2 sucessos: ', binom.pmf(0, n, prob) + binom.pmf(1, n, prob) + binom.pmf(2, n, prob))"
   ]
  },
  {
   "cell_type": "markdown",
   "metadata": {},
   "source": [
    "Exemplo de geração de números aleatórios a partir de uma variável aleatória"
   ]
  },
  {
   "cell_type": "code",
   "execution_count": 27,
   "metadata": {},
   "outputs": [],
   "source": [
    "#Vamos jogar uma moeda e verificar quantas caras ocorreram\n",
    "from scipy.stats import bernoulli"
   ]
  },
  {
   "cell_type": "code",
   "execution_count": 34,
   "metadata": {},
   "outputs": [
    {
     "name": "stdout",
     "output_type": "stream",
     "text": [
      "Números sorteados:  [0 1 0 0 1 0 0 0 0 0 1 0 1 1 1]\n"
     ]
    }
   ],
   "source": [
    "#Definindo a probabilidade de sucesso (p)\n",
    "p = 0.5 #Por exemplo, p = 0,5 sugnifica 50% de chance de obter 1\n",
    "\n",
    "#Gerando 15 números a partir da distribuição de Bernoulli\n",
    "n = 15\n",
    "\n",
    "sorteios = bernoulli.rvs(p, size=n)\n",
    "\n",
    "#Exibindo o resultado\n",
    "print('Números sorteados: ', sorteios)"
   ]
  },
  {
   "cell_type": "markdown",
   "metadata": {},
   "source": [
    "A fim de mostrar que há outras bibliotecas estatísticas, vamos utilizar a biblioteca numpy para gerar os números aleatórios segundo uma binomial e o matplotlib para plotar."
   ]
  },
  {
   "cell_type": "code",
   "execution_count": 35,
   "metadata": {},
   "outputs": [],
   "source": [
    "import numpy as np\n",
    "import matplotlib.pyplot as plt"
   ]
  },
  {
   "cell_type": "code",
   "execution_count": 42,
   "metadata": {},
   "outputs": [
    {
     "data": {
      "image/png": "[encoded data removed]",
      "text/plain": [
       "<Figure size 640x480 with 1 Axes>"
      ]
     },
     "metadata": {},
     "output_type": "display_data"
    }
   ],
   "source": [
    "#Gerando os números binomiais\n",
    "va_binomial = np.random.binomial(n=10, p=0.5, size=30)\n",
    "\n",
    "#Criando o histograma para visualização\n",
    "plt.hist(va_binomial, bins=range(min(va_binomial),max(va_binomial)+2), edgecolor='black')\n",
    "plt.xlabel('Número de sucessos')\n",
    "plt.ylabel('Frequência')\n",
    "plt.title('Histograma de variáveis aleatórias binomiais')\n",
    "plt.show()"
   ]
  },
  {
   "cell_type": "markdown",
   "metadata": {},
   "source": [
    "Distribuição Geométrica"
   ]
  },
  {
   "cell_type": "markdown",
   "metadata": {},
   "source": [
    "Exemplo: Definindo como sucesso o cliente comprar, e supondo que a probabilidade de sucesso é 50%. Qual a probabilidade de a primeira venda ocorrer quando o quinto cliente entrar na loja?"
   ]
  }
 ],
 "metadata": {
  "kernelspec": {
   "display_name": "Python 3",
   "language": "python",
   "name": "python3"
  },
  "language_info": {
   "codemirror_mode": {
    "name": "ipython",
    "version": 3
   },
   "file_extension": ".py",
   "mimetype": "text/x-python",
   "name": "python",
   "nbconvert_exporter": "python",
   "pygments_lexer": "ipython3",
   "version": "3.13.1"
  }
 },
 "nbformat": 4,
 "nbformat_minor": 2
}
