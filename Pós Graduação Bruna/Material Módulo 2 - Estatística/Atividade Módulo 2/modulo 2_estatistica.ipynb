{
 "cells": [
  {
   "cell_type": "markdown",
   "metadata": {},
   "source": [
    "CAPÍTULO 2 \n",
    "\n",
    "Estatística Computacional - Probabilidade com Python"
   ]
  },
  {
   "cell_type": "markdown",
   "metadata": {},
   "source": [
    "Qual o número de possibilidades ao jogar 6 números na mega sena?"
   ]
  },
  {
   "cell_type": "code",
   "execution_count": 4,
   "metadata": {},
   "outputs": [],
   "source": [
    "#Código de combinações\n",
    "import math"
   ]
  },
  {
   "cell_type": "code",
   "execution_count": 5,
   "metadata": {},
   "outputs": [
    {
     "name": "stdout",
     "output_type": "stream",
     "text": [
      "O número de combinações é: 3\n"
     ]
    }
   ],
   "source": [
    "#Exemplo 1\n",
    "#Número total de elementos (n)\n",
    "n = 3\n",
    "#Número de elementos a serem escolhidos (k)\n",
    "k = 2\n",
    "\n",
    "#Calcula o número de combinações\n",
    "combinacoes_possiveis = math.comb(n, k)\n",
    "\n",
    "print(f'O número de combinações é: {combinacoes_possiveis}')"
   ]
  },
  {
   "cell_type": "code",
   "execution_count": 6,
   "metadata": {},
   "outputs": [
    {
     "name": "stdout",
     "output_type": "stream",
     "text": [
      "O número de possibilidades ao escolher 6 números na mega sena é: 50,063,860\n"
     ]
    }
   ],
   "source": [
    "#Resolvendo o problema inicial\n",
    "#Número total de elementos (n)\n",
    "n = 60\n",
    "#Número de elementos a serem escolhidos (k)\n",
    "k = 6\n",
    "\n",
    "#Calcula o número de combinações\n",
    "combinacoes_possiveis = math.comb(n, k)\n",
    "\n",
    "print(f'O número de possibilidades ao escolher 6 números na mega sena é: {combinacoes_possiveis:,}')\n"
   ]
  },
  {
   "cell_type": "code",
   "execution_count": 7,
   "metadata": {},
   "outputs": [
    {
     "name": "stdout",
     "output_type": "stream",
     "text": [
      "O número de combinar 10 números em grupos de 6 é: 210\n"
     ]
    }
   ],
   "source": [
    "#E se eu jogar 10 números?\n",
    "#Número total de elementos (n)\n",
    "n = 60\n",
    "#Número de elementos a serem escolhidos (k)\n",
    "k = 6\n",
    "#Números jogados\n",
    "njogados = 10\n",
    "\n",
    "#Calcula o número de combinações das jogadas\n",
    "combinacoes_jogadas = math.comb(njogados, k)\n",
    "\n",
    "print(f'O número de combinar {njogados} números em grupos de 6 é: {combinacoes_jogadas}')\n"
   ]
  },
  {
   "cell_type": "code",
   "execution_count": 8,
   "metadata": {},
   "outputs": [
    {
     "name": "stdout",
     "output_type": "stream",
     "text": [
      "A probabilidade de vitória com 10 números é de 210 em: 50063860\n"
     ]
    }
   ],
   "source": [
    "#Calcula o número de combinações totais possíveis\n",
    "combinacoes_possiveis = math.comb(n, k)\n",
    "\n",
    "print(f'A probabilidade de vitória com {njogados} números é de {combinacoes_jogadas} em: {combinacoes_possiveis}')"
   ]
  },
  {
   "cell_type": "markdown",
   "metadata": {},
   "source": [
    "Trabalhando com Variáveis aleatórias discretas"
   ]
  },
  {
   "cell_type": "markdown",
   "metadata": {},
   "source": [
    "Exemplo: Ao passar 10 clientes em nossa loja, qual a probabilidade de realizarmos 2 vendas? \n",
    "\n",
    "Ou seja, queremos encontrar a probabilidade de dois sucessos, em dez tentativas, suja probabilidade de sucesso em cada tentativa é 50%."
   ]
  },
  {
   "cell_type": "code",
   "execution_count": 9,
   "metadata": {},
   "outputs": [],
   "source": [
    "from scipy.stats import binom"
   ]
  },
  {
   "cell_type": "code",
   "execution_count": 10,
   "metadata": {},
   "outputs": [
    {
     "name": "stdout",
     "output_type": "stream",
     "text": [
      "0.04394531250000005\n"
     ]
    }
   ],
   "source": [
    "#Definindo os parâmetros\n",
    "x = 2 #sucessos\n",
    "size = 10 #Tentativas\n",
    "prob = 0.5 #Prob sucesso\n",
    "\n",
    "#Calculando probabilidade\n",
    "probability = binom.pmf(x, size, prob)\n",
    "print(probability)"
   ]
  },
  {
   "cell_type": "markdown",
   "metadata": {},
   "source": [
    "Probabilidade, Probabilidade acumulada e amostragem"
   ]
  },
  {
   "cell_type": "markdown",
   "metadata": {},
   "source": [
    "A biblioteca stats utiliza pmf para probabilidade, cdf para possibilidade acumulada e rvs para uma amostra segundo a variável aleatória.\n",
    "\n",
    "binom.pmf(k, n, p) calcula a probabilidade de obter mais de k sucessos em n tentativas com a probabilidade de p sucesso em cada tentativa.\n",
    "\n",
    "binom.cdf(q, n, p) calcula o número de sucessos correspondentes à probabilidade cumulativa q em n tentativas com a probabilidade p de sucesso em cada tentativa.\n",
    "\n",
    "binom.rvs(n, p, size) gera amostras aleatórias seguindo uma distribuição binomial com n tentativas e probabilidade p de sucesso. Size refere-se ao número de amostras desejado."
   ]
  },
  {
   "cell_type": "code",
   "execution_count": 11,
   "metadata": {},
   "outputs": [],
   "source": [
    "from scipy.stats import binom"
   ]
  },
  {
   "cell_type": "code",
   "execution_count": 12,
   "metadata": {},
   "outputs": [
    {
     "name": "stdout",
     "output_type": "stream",
     "text": [
      "Probabilidade de k sucessos em 10 lançamentos:  0.04394531250000005\n"
     ]
    }
   ],
   "source": [
    "#Definindo os parâmetros\n",
    "k = 2\n",
    "n  = 10\n",
    "prob = 0.5\n",
    "\n",
    "#Calcula a probabilidade de 2 sucessos em 10 jogadas, com probabilidade 0,5 de sucesso\n",
    "probability = binom.pmf(k, n, prob)\n",
    "print('Probabilidade de k sucessos em 10 lançamentos: ', probability)"
   ]
  },
  {
   "cell_type": "code",
   "execution_count": 13,
   "metadata": {},
   "outputs": [
    {
     "name": "stdout",
     "output_type": "stream",
     "text": [
      "Probabilidade acumulada:  0.0546875\n"
     ]
    }
   ],
   "source": [
    "#Calcula a probabilidade acumulada de 2 sucessos em 10 jogadas (ou seja, de 0, 1 e 2 sucessos), com porbabilidade 0,5 de sucesso\n",
    "print('Probabilidade acumulada: ', binom.cdf(k, n, prob))"
   ]
  },
  {
   "cell_type": "code",
   "execution_count": 14,
   "metadata": {},
   "outputs": [
    {
     "name": "stdout",
     "output_type": "stream",
     "text": [
      "Somando chances de 0, 1 e 2 sucessos:  0.05468750000000005\n"
     ]
    }
   ],
   "source": [
    "#É a mesma coisa que somar as chances de 0, 1 e 2 sucessos\n",
    "print('Somando chances de 0, 1 e 2 sucessos: ', binom.pmf(0, n, prob) + binom.pmf(1, n, prob) + binom.pmf(2, n, prob))"
   ]
  },
  {
   "cell_type": "markdown",
   "metadata": {},
   "source": [
    "Exemplo de geração de números aleatórios a partir de uma variável aleatória"
   ]
  },
  {
   "cell_type": "code",
   "execution_count": 15,
   "metadata": {},
   "outputs": [],
   "source": [
    "#Vamos jogar uma moeda e verificar quantas caras ocorreram\n",
    "from scipy.stats import bernoulli"
   ]
  },
  {
   "cell_type": "code",
   "execution_count": 16,
   "metadata": {},
   "outputs": [
    {
     "name": "stdout",
     "output_type": "stream",
     "text": [
      "Números sorteados:  [1 0 0 0 0 1 1 1 0 1 0 0 1 1 0]\n"
     ]
    }
   ],
   "source": [
    "#Definindo a probabilidade de sucesso (p)\n",
    "p = 0.5 #Por exemplo, p = 0,5 sugnifica 50% de chance de obter 1\n",
    "\n",
    "#Gerando 15 números a partir da distribuição de Bernoulli\n",
    "n = 15\n",
    "\n",
    "sorteios = bernoulli.rvs(p, size=n)\n",
    "\n",
    "#Exibindo o resultado\n",
    "print('Números sorteados: ', sorteios)"
   ]
  },
  {
   "cell_type": "markdown",
   "metadata": {},
   "source": [
    "A fim de mostrar que há outras bibliotecas estatísticas, vamos utilizar a biblioteca numpy para gerar os números aleatórios segundo uma binomial e o matplotlib para plotar."
   ]
  },
  {
   "cell_type": "code",
   "execution_count": 17,
   "metadata": {},
   "outputs": [],
   "source": [
    "import numpy as np\n",
    "import matplotlib.pyplot as plt"
   ]
  },
  {
   "cell_type": "code",
   "execution_count": 18,
   "metadata": {},
   "outputs": [
    {
     "data": {
      "image/png": "[encoded data removed]",
      "text/plain": [
       "<Figure size 640x480 with 1 Axes>"
      ]
     },
     "metadata": {},
     "output_type": "display_data"
    }
   ],
   "source": [
    "#Gerando os números binomiais\n",
    "va_binomial = np.random.binomial(n=10, p=0.5, size=30)\n",
    "\n",
    "#Criando o histograma para visualização\n",
    "plt.hist(va_binomial, bins=range(min(va_binomial),max(va_binomial)+2), edgecolor='black')\n",
    "plt.xlabel('Número de sucessos')\n",
    "plt.ylabel('Frequência')\n",
    "plt.title('Histograma de variáveis aleatórias binomiais')\n",
    "plt.show()"
   ]
  },
  {
   "cell_type": "markdown",
   "metadata": {},
   "source": [
    "Distribuição Geométrica"
   ]
  },
  {
   "cell_type": "markdown",
   "metadata": {},
   "source": [
    "Exemplo: Definindo como sucesso o cliente comprar, e supondo que a probabilidade de sucesso é 50%. Qual a probabilidade de a primeira venda ocorrer quando o quinto cliente entrar na loja?"
   ]
  },
  {
   "cell_type": "code",
   "execution_count": 19,
   "metadata": {},
   "outputs": [],
   "source": [
    "from scipy.stats import geom"
   ]
  },
  {
   "cell_type": "code",
   "execution_count": 21,
   "metadata": {},
   "outputs": [
    {
     "name": "stdout",
     "output_type": "stream",
     "text": [
      "0.03125\n"
     ]
    }
   ],
   "source": [
    "#Definindo os parâmetros\n",
    "x = 5\n",
    "prob = 0.5\n",
    "\n",
    "#Calculando a probabilidade\n",
    "probability = geom.pmf(x, prob)\n",
    "print(probability)\n",
    "\n",
    "#Onde: x é o número de tentativas até o primeiro sucesso (incluindo o sucesso), e prob é a probabilidade de sucessos."
   ]
  },
  {
   "cell_type": "code",
   "execution_count": 22,
   "metadata": {},
   "outputs": [],
   "source": [
    "#Podemos utilizar a mesma função e nos dar a probabilidade do sucesso ocorrer na primeira tenattiva, segunda tentativa, terceira tentativa... até a décima tentativa.\n",
    "\n",
    "import numpy as pd\n",
    "import matplotlib.pyplot as plt\n",
    "from scipy.stats import geom"
   ]
  },
  {
   "cell_type": "code",
   "execution_count": 23,
   "metadata": {},
   "outputs": [
    {
     "name": "stdout",
     "output_type": "stream",
     "text": [
      "[0.5        0.25       0.125      0.0625     0.03125    0.015625\n",
      " 0.0078125  0.00390625 0.00195312 0.00097656]\n"
     ]
    }
   ],
   "source": [
    "#Definindo os parâmetros\n",
    "x = np.arange(1, 11)\n",
    "prob = 0.5\n",
    "\n",
    "#Calculando as probabilidades\n",
    "va_geomatrica = geom.pmf(x, prob)\n",
    "#Exibindo as probabilidades\n",
    "print(va_geomatrica)"
   ]
  },
  {
   "cell_type": "code",
   "execution_count": 24,
   "metadata": {},
   "outputs": [
    {
     "data": {
      "image/png": "[encoded data removed]",
      "text/plain": [
       "<Figure size 640x480 with 1 Axes>"
      ]
     },
     "metadata": {},
     "output_type": "display_data"
    }
   ],
   "source": [
    "#Criando o gráfico\n",
    "plt.plot(x, va_geomatrica, marker='o')\n",
    "plt.xlabel('Número de tentativas')\n",
    "plt.ylabel('Probabilidade')\n",
    "plt.title('Distribuição geométrica (p = 0.5)')\n",
    "plt.grid(True)\n",
    "plt.show()"
   ]
  },
  {
   "cell_type": "markdown",
   "metadata": {},
   "source": [
    "Distribuição Normal"
   ]
  },
  {
   "cell_type": "markdown",
   "metadata": {},
   "source": [
    "Exemplo: Suponha que a distribuição dos salários dos funcionários de uma empresa sigam uma distribuição nromal com média 2.500 e desvio padrão 170. Ao selecionar aleatoriamente um indivídio dessa população, qual a probabilidade de ter salário entre 2.400 e 2.600? \n",
    "\n",
    "Precisamos achar a probabilidade do indivíduo ter um salário de até 2.600 e subtrair pela probabilidade do indivíduo ter o salário de 2.400."
   ]
  },
  {
   "cell_type": "code",
   "execution_count": 25,
   "metadata": {},
   "outputs": [],
   "source": [
    "from scipy.stats import norm"
   ]
  },
  {
   "cell_type": "code",
   "execution_count": 26,
   "metadata": {},
   "outputs": [
    {
     "name": "stdout",
     "output_type": "stream",
     "text": [
      "0.4436256295730932\n"
     ]
    }
   ],
   "source": [
    "#Definindo os parâmetros\n",
    "mean = 2500 #Média\n",
    "sd = 170 #Desvio padrão\n",
    "\n",
    "#Calculando as probabilidades acumuladas\n",
    "probabilidade_ate_2600 = norm.cdf(2600, mean, sd)\n",
    "probabilidade_ate_2400 = norm.cdf(2400, mean, sd)\n",
    "\n",
    "#Calculando a diferença das probabilidades\n",
    "diferenca_probabilidade = probabilidade_ate_2600 - probabilidade_ate_2400\n",
    "\n",
    "print(diferenca_probabilidade)"
   ]
  },
  {
   "cell_type": "markdown",
   "metadata": {},
   "source": [
    "Exemplo 2: Podemos gerar 100 números aleatórios para uma distribuição normal com média 2500 e desvio padrão 170."
   ]
  },
  {
   "cell_type": "code",
   "execution_count": 27,
   "metadata": {},
   "outputs": [],
   "source": [
    "import numpy as np\n",
    "import matplotlib.pyplot as plt"
   ]
  },
  {
   "cell_type": "code",
   "execution_count": 30,
   "metadata": {},
   "outputs": [
    {
     "name": "stdout",
     "output_type": "stream",
     "text": [
      "[2564.37532255 2264.33743724 2406.52921051 2491.60340423 2444.8404107\n",
      " 2521.0570059  2580.28624378 1929.74802475 2628.99901807 2290.1096507\n",
      " 2701.98329584 2662.15126697 2373.61905496 2536.01659493 2362.19422715\n",
      " 2524.41624376 2454.27034293 2502.58187257 2758.30776442 2312.15472454\n",
      " 2475.64142078 2579.00088771 2380.00347563 2379.24500989 2554.81204473\n",
      " 2308.59425797 2501.1759967  2146.31817593 2450.42016933 2468.08526353\n",
      " 2459.72489826 2434.16034336 2300.08248351 2515.30380621 2447.42071737\n",
      " 2498.24563941 2425.45380576 2436.09856284 2647.48165926 2520.81148149\n",
      " 2162.75135214 2774.51003909 2323.94384226 2278.01659649 2210.1082706\n",
      " 2453.65789053 2658.06679914 2494.28625243 2527.2218019  2089.57298253\n",
      " 2868.57896981 2596.83606567 2635.57709574 2539.27438111 2331.13964894\n",
      " 2355.19826749 2545.58548147 2387.99497426 2365.75604918 2510.69314807\n",
      " 2356.41970272 2678.29184398 2541.6053479  2597.17032024 2626.03160151\n",
      " 2729.30651095 2402.0522093  2507.1925476  2301.71887312 2628.36252129\n",
      " 2258.36247863 2720.8916388  2363.64487073 2720.2370323  2566.15536495\n",
      " 2497.28813046 2186.06366555 2150.80163063 2605.78482292 2445.71986497\n",
      " 2679.68103284 2345.04316973 2479.1177376  2430.63887817 2618.39068526\n",
      " 2515.50580364 2318.75085707 2656.70927969 2352.83073324 2671.94494436\n",
      " 2784.86334393 2367.87812728 2320.28141821 2506.0248726  2435.37853476\n",
      " 2572.02646785 2398.7592001  2481.88833189 2721.61518932 2581.12461361]\n"
     ]
    }
   ],
   "source": [
    "#Definindo os parâmetros\n",
    "n = 100 #Número de ocorrências\n",
    "mean = 2500 #Média\n",
    "sd = 170 #Desvio padrão\n",
    "\n",
    "#Gerando os números da distribuição normal\n",
    "va_normal = np.random.normal(mean, sd, n)\n",
    "print(va_normal)\n"
   ]
  },
  {
   "cell_type": "code",
   "execution_count": 31,
   "metadata": {},
   "outputs": [
    {
     "data": {
      "image/png": "[encoded data removed]",
      "text/plain": [
       "<Figure size 640x480 with 1 Axes>"
      ]
     },
     "metadata": {},
     "output_type": "display_data"
    }
   ],
   "source": [
    "#Criando o histograma\n",
    "plt.hist(va_normal, bins=10, edgecolor='black')\n",
    "plt.xlabel('Valor')\n",
    "plt.ylabel('Frequência')\n",
    "plt.title('Histograma de variáveis aleatórias normais')\n",
    "plt.grid(True)\n",
    "plt.show()"
   ]
  },
  {
   "cell_type": "markdown",
   "metadata": {},
   "source": [
    "Distribuição F"
   ]
  },
  {
   "cell_type": "markdown",
   "metadata": {},
   "source": [
    "Exemplo: Gerando uma amostra aleatória de 1000 números seguindo uma distribuição F"
   ]
  },
  {
   "cell_type": "code",
   "execution_count": 32,
   "metadata": {},
   "outputs": [],
   "source": [
    "import numpy as np\n",
    "import matplotlib.pyplot as plt\n",
    "from scipy.stats import f"
   ]
  },
  {
   "cell_type": "code",
   "execution_count": 33,
   "metadata": {},
   "outputs": [
    {
     "name": "stdout",
     "output_type": "stream",
     "text": [
      "[0.12382936 0.68135821 0.59534244 0.25142067 0.60472051 1.78814583\n",
      " 1.0014187  0.85396285 0.12729697 0.33789415 1.21145426 0.3449807\n",
      " 0.96481967 0.36594332 0.75323458 0.89322665 1.4644975  0.44274905\n",
      " 1.21635839 0.92574573 0.56246785 1.18511657 1.09525199 0.43968284\n",
      " 0.58972104 1.67809161 0.87161691 1.85880535 0.86141207 0.25942024\n",
      " 0.64955952 1.55693236 0.74985681 1.12395131 0.40777436 0.69434277\n",
      " 0.99842713 0.62495072 0.36106121 0.43802401 2.41467122 0.51774495\n",
      " 0.49469805 0.47959018 0.15090933 0.50450993 1.02219031 0.64999319\n",
      " 1.30717732 0.24692662 1.30411484 0.92514243 0.60507872 1.96703067\n",
      " 1.74399161 1.53110316 0.62778641 0.4709014  0.23335322 3.19533187\n",
      " 1.32526154 0.26736779 1.77454921 0.23138388 0.67070489 0.59771161\n",
      " 1.51977861 1.72333505 0.85387058 0.41387316 1.46596105 1.20791225\n",
      " 0.49251308 0.37563677 0.9557253  1.82121784 2.5040492  2.26949752\n",
      " 0.5493361  0.89152951 1.18147298 1.79547702 0.67531161 0.81984391\n",
      " 2.33983988 0.32032146 2.09472455 1.37767207 0.81541253 1.41393558\n",
      " 1.01007194 0.56531558 0.18557038 3.17465666 1.19149641 2.71594369\n",
      " 1.23726761 0.94436514 0.78129941 2.28445423 0.40656797 0.6738534\n",
      " 1.32480016 0.59186221 1.86552243 3.07038967 0.67946986 0.71610301\n",
      " 1.37700665 0.47998263 1.76160239 0.6432542  1.03002084 2.44043012\n",
      " 1.08444332 0.28750536 0.75302603 1.48486366 1.36793371 0.15629298\n",
      " 0.44371753 0.95688495 1.31018811 1.24587167 1.13691981 0.93063492\n",
      " 0.27280933 1.96415975 2.01252824 0.97470679 0.23014408 0.96310393\n",
      " 4.46735462 0.49872814 0.24872584 0.24383396 1.01896463 0.36679309\n",
      " 1.40173565 0.2895082  0.90027954 0.36474271 1.8527111  4.02477963\n",
      " 0.7763593  0.60884297 0.60670099 1.23375669 3.42080002 0.98024028\n",
      " 2.25441385 2.41554607 0.60286629 1.16494091 0.08767393 1.24986219\n",
      " 0.20452691 0.44366431 0.51872156 0.40738485 1.49324371 0.83505176\n",
      " 1.73500453 0.77205845 1.91164277 0.25995424 1.01085777 0.61320773\n",
      " 1.85351358 2.57773551 1.69107672 2.51918346 1.23747409 0.90903482\n",
      " 1.05411782 0.8133171  0.69329845 1.41704941 2.13050504 0.59771324\n",
      " 1.89887747 0.77536833 0.54488858 1.88039541 1.18088526 0.46645246\n",
      " 0.59227277 2.47378075 0.89642572 1.37747891 0.73123162 0.64100191\n",
      " 0.29635965 2.14017164 0.90752195 0.73340612 4.88172263 0.90593244\n",
      " 0.59250062 0.89024679 0.87339869 0.27486638 1.73344108 0.61490219\n",
      " 0.17544617 1.18139506 0.72125462 0.55725767 2.59412823 1.40467368\n",
      " 1.16574668 1.65621863 2.22846839 1.47615496 0.20322106 0.32820388\n",
      " 1.23569353 0.02697249 1.19854809 0.93823383 0.60840104 1.43657627\n",
      " 1.78601927 0.22113705 1.31110169 0.78172011 0.73160918 2.41130911\n",
      " 0.57964835 1.76615855 0.18503427 0.48533454 0.22338512 0.63981581\n",
      " 0.30769675 3.30764576 0.4774583  0.94453866 1.0757068  0.65026006\n",
      " 0.99777093 1.18517845 1.05596528 0.81532663 1.88150409 0.72114512\n",
      " 1.56074724 1.3433114  1.33254562 0.32724386 1.23792061 0.3715847\n",
      " 2.46728299 1.75647475 1.46499178 0.73801842 0.84129672 0.78336771\n",
      " 2.601712   3.06004776 0.75943155 1.16334666 0.30024385 2.15602005\n",
      " 0.87851742 0.44786769 2.4505152  1.6583055  1.29891185 0.11696188\n",
      " 2.59967491 0.85047747 0.15427575 0.60263216 1.20773215 1.75004173\n",
      " 1.7548886  0.31188701 0.32026176 1.96198492 0.7616044  1.43460674\n",
      " 0.60717417 2.62172496 0.44268875 2.59018611 2.27012085 0.15582815\n",
      " 0.63005445 1.27171658 0.92431887 1.12544137 0.16529351 0.4254572\n",
      " 0.72756019 1.15398065 1.00996994 0.83089114 0.50905656 0.48815807\n",
      " 2.14552206 0.45169639 0.88536381 0.55726333 2.13093081 0.97964315\n",
      " 0.51815935 0.05702145 1.21376135 1.34645753 0.96330894 1.45422631\n",
      " 0.49839425 1.62617002 1.84821998 0.7658196  1.47171408 0.8842348\n",
      " 0.48848012 0.50569427 0.27246404 1.24311174 0.96812021 1.91897202\n",
      " 0.55896716 0.59298225 0.72584528 1.00484981 1.49537176 0.43208433\n",
      " 0.88277404 1.91540077 0.59182554 0.6746796  0.23254754 3.46822031\n",
      " 0.32956444 0.33907182 0.24597399 2.12603645 0.58541185 0.66600731\n",
      " 1.15483355 0.4047355  0.69126046 0.96489241 0.56460679 0.46566781\n",
      " 1.35592329 1.3246985  0.39950092 1.19853984 1.45362863 1.35958641\n",
      " 0.3666759  2.82291727 0.65999173 0.10141216 1.30805278 0.24838403\n",
      " 0.64307623 0.29040946 1.45531837 0.40305422 2.10747112 0.31466084\n",
      " 0.77753955 1.33654363 0.91683732 2.94975635 0.20615131 1.67236271\n",
      " 1.14793578 0.42804232 1.28493073 0.99742828 2.59759107 0.78669173\n",
      " 1.20819155 0.63715344 0.9180567  2.41551653 0.55017714 2.09621203\n",
      " 2.3466361  0.48984931 0.67616211 1.35680521 1.11918478 1.63871289\n",
      " 2.02931918 1.01060595 0.71733721 0.36610139 0.83556929 0.99994252\n",
      " 1.40454214 0.46586451 1.52503538 0.85677501 1.10550677 0.13305538\n",
      " 1.43301085 1.81379076 0.43513664 0.80224134 0.7644974  0.2107666\n",
      " 1.92360693 0.59829444 1.15871654 1.52006172 0.90659123 1.37722357\n",
      " 1.85682664 1.13210124 0.59513154 1.1731906  1.41395201 0.49454679\n",
      " 0.7336919  0.4279449  0.33096964 2.68025489 1.51212699 1.54080779\n",
      " 1.44399732 3.10769152 0.98384626 1.04674622 0.75045092 0.28567538\n",
      " 0.42653224 0.53953691 0.88315977 0.19641161 0.05721549 1.02787617\n",
      " 0.47102505 0.20478298 0.70830492 2.50167526 1.44652524 1.68309358\n",
      " 2.13073867 3.70063892 1.32591738 0.81040695 1.1975598  1.09269423\n",
      " 0.62049779 0.17310382 2.18118182 0.23149297 0.43760764 0.63549794\n",
      " 3.3591752  0.74267147 1.594629   0.19951744 0.34376447 0.9725558\n",
      " 1.72091401 1.38600088 0.90744583 0.66353474 0.65562033 0.96586962\n",
      " 1.64883537 0.21146683 0.28022876 0.17393778 1.04837038 5.10985043\n",
      " 1.28067283 0.27635443 0.98160111 0.4353374  0.78276041 0.66254964\n",
      " 0.4944074  0.79629752 0.38568918 2.61144733 2.80378088 0.88040919\n",
      " 1.28695767 0.90358693 0.4568712  1.20207217 0.84717289 0.7113315\n",
      " 1.2464323  1.08997566 0.65470242 1.80786819 1.90541996 1.42003637\n",
      " 1.71559091 0.86967608 0.07251865 0.64104804 1.12287581 0.60808615\n",
      " 0.21426621 0.80285811 0.67952526 2.30735829 1.39128416 0.3550622\n",
      " 0.73650848 1.54768457 0.65657053 1.23869902 1.1503691  3.9494336\n",
      " 0.31533635 0.99045255 1.07861818 1.63972811 1.34963942 1.11218981\n",
      " 1.98003916 0.57240749 0.38325396 1.22552075 0.51925813 0.55977431\n",
      " 1.58893866 0.89188967 0.603292   1.33757366 0.91800543 0.42535137\n",
      " 1.30697817 0.30343624 2.6144682  0.51348269 0.64539361 0.22065049\n",
      " 0.98422445 1.69077034 0.21805168 1.63570019 1.31003741 0.54684989\n",
      " 0.57630596 0.9617978  0.95538307 0.94456293 0.57045691 0.67069985\n",
      " 1.24454286 0.6008874  1.50247917 1.0941153  1.06698327 1.19172755\n",
      " 0.62342516 0.75684068 0.40902069 0.34059806 1.24115864 1.03412018\n",
      " 1.84182459 0.81194666 1.19249779 0.44888623 0.5249473  3.22950137\n",
      " 1.55814968 2.29822897 0.56489025 0.47071144 0.86486844 0.81044973\n",
      " 0.66075888 1.58264738 1.18172004 1.53328421 0.48244513 2.57974071\n",
      " 1.03153758 0.93786453 1.17424773 0.60811419 0.24868557 1.48879314\n",
      " 0.67839394 0.85170711 1.03218011 2.74752031 0.9823917  0.55620104\n",
      " 0.56055696 2.16725846 1.34717866 1.0585281  0.29429697 0.45890178\n",
      " 0.0298929  0.71537094 1.27692775 0.68753927 4.32560838 3.01706539\n",
      " 2.31873064 1.47745826 1.02884084 1.31994247 1.26675314 1.50334738\n",
      " 1.3437106  1.81790205 0.35428449 1.33081215 2.99900648 0.86900786\n",
      " 0.97417015 1.75397338 0.8398689  2.09080237 1.39512757 0.263556\n",
      " 0.76663186 1.23184123 1.26864824 0.78759607 0.64622593 0.49471778\n",
      " 1.29241931 0.6481184  2.03507197 0.46177538 0.72829889 1.26792376\n",
      " 0.65603777 0.2181271  0.10476113 1.33417802 0.39734583 1.28012951\n",
      " 1.32696765 1.6095448  0.35878968 1.53458512 0.91900735 1.78682088\n",
      " 0.94926374 1.16077046 0.48319793 0.75015414 0.47147254 0.75056356\n",
      " 0.53348722 0.74247541 0.51917681 0.08431557 0.18761957 1.12906089\n",
      " 2.66205258 0.90010249 1.20371792 1.17290096 0.56509022 1.98359379\n",
      " 0.63863801 0.46334006 1.49000197 0.83085927 1.23912971 1.74407637\n",
      " 0.53701943 0.3077196  0.12477515 0.51492068 1.35519026 0.86073427\n",
      " 0.69809289 1.10234102 0.46260071 1.04964016 0.40222799 0.93772999\n",
      " 0.46760395 1.9445945  0.87504054 1.85370138 0.25994649 0.56586829\n",
      " 1.85599312 0.13981291 0.44535895 0.4312703  1.81696513 0.47530549\n",
      " 1.07644772 0.4272525  2.35288626 0.58858257 1.01448396 1.00158997\n",
      " 1.03486315 0.92499239 0.82180529 1.53574087 1.63312534 0.7548077\n",
      " 0.76703821 0.64743508 0.24319034 1.31558978 1.67411042 0.55683895\n",
      " 1.09791176 1.8407278  0.90453186 0.27983379 0.15646593 0.72112875\n",
      " 0.68133718 1.46156145 0.10187215 0.67307998 1.70388683 1.22339644\n",
      " 1.88571322 1.3130247  0.68011508 0.16964026 0.12434301 0.47089653\n",
      " 2.62466428 1.02355129 1.41261423 1.10065682 1.00503738 2.07287503\n",
      " 1.19845216 0.42269793 0.62996225 1.62658691 0.75285143 0.42818589\n",
      " 2.21382199 0.97402604 1.81773932 0.49442295 0.60015166 0.57648745\n",
      " 0.43143621 0.68928516 0.56200241 0.2707487  0.55826872 1.10463013\n",
      " 0.80767877 1.14006398 0.50367889 0.57204821 1.87183113 1.03163184\n",
      " 0.92819335 0.23493955 0.9457432  0.75368545 0.13109808 0.49255092\n",
      " 0.58787333 2.85195488 1.63833437 1.68560737 1.03287558 1.66146454\n",
      " 0.98008449 1.54068176 0.3475623  0.99551436 1.07731813 0.10315278\n",
      " 2.36748907 0.93163444 0.3539878  1.45237515 1.37359738 0.69365075\n",
      " 0.66994532 0.34363205 1.06137088 0.99714242 0.3478713  0.6394622\n",
      " 0.9425818  0.45994175 0.73286122 0.43394494 1.51400394 0.56224122\n",
      " 1.55138359 0.82052884 1.73110952 1.50769766 0.3698911  4.32800262\n",
      " 0.07232757 0.53406997 0.81197888 0.71115559 0.80387372 1.42852647\n",
      " 0.10902537 2.14510875 3.80080812 0.58783304 0.60971779 0.36088995\n",
      " 0.4345877  0.05204145 1.95151275 1.87547786 0.59249951 0.88387282\n",
      " 2.23639828 0.52084958 0.58147068 0.69529133 1.08755303 0.52931648\n",
      " 0.61077239 2.02115219 0.33384217 0.27040238 0.48851123 0.46491031\n",
      " 0.58640526 0.48581362 0.46915899 0.36163575 0.70232554 1.10580919\n",
      " 0.97812596 0.42246623 0.90857639 0.62214696 1.66101946 1.15755951\n",
      " 2.55735644 0.14231978 0.99474721 0.76348639 1.82711979 0.55485018\n",
      " 2.64373841 0.93994621 1.35072259 1.47072892 1.30357501 1.38171\n",
      " 0.89080418 4.84345677 0.62496964 0.97383713 0.703697   0.74940291\n",
      " 0.86222485 0.56406541 1.85047272 0.84981387 0.84957442 1.20065124\n",
      " 0.91491542 0.89695008 0.21138707 1.11446124 1.80629719 0.8967175\n",
      " 1.06550248 1.3418309  0.08411178 0.52224895 1.19885805 2.60596428\n",
      " 0.44637827 2.76166725 0.77518624 0.71354536 3.34544804 0.5962782\n",
      " 1.53290591 0.51938615 2.08413505 1.73656859 0.2348528  1.1204064\n",
      " 1.05284093 0.70227662 2.31817481 1.3052015  0.9839436  0.45061471\n",
      " 0.99102966 0.67111615 1.35262102 0.969147   0.39012461 0.81140759\n",
      " 0.10684805 0.79578613 0.8497946  0.64421821 1.58251588 1.52992559\n",
      " 0.57136727 0.53998442 1.33823561 1.82081298 1.21110113 1.39927145\n",
      " 0.82414388 1.52868692 0.67411349 0.11310924 0.52096389 2.10748974\n",
      " 0.62670499 0.35901374 0.09580738 0.45206204 0.40683945 1.38820676\n",
      " 0.53115297 0.61191331 0.50837698 1.42916861 1.90117634 0.47135108\n",
      " 1.39795243 0.69236635 1.08688503 2.09174146 0.6761081  1.23020045\n",
      " 0.31043986 1.09724518 0.74966773 1.20043488 0.36511248 2.15667777\n",
      " 0.91116781 0.72342855 0.92726306 0.75367746 1.11439055 1.42606854\n",
      " 0.68301378 1.14163296 0.73951089 0.4877529  0.74413499 1.22614084\n",
      " 0.36920539 0.85670586 0.23700437 0.58314425 0.6228589  1.23452487\n",
      " 0.60658686 0.55619601 1.1871673  1.37354856 0.88535815 1.04271002\n",
      " 0.07805142 0.36877334 2.07381228 1.79676101 0.28806903 0.30886884\n",
      " 0.5583113  0.48446801 0.5405664  1.62332757 2.05453064 0.82114542\n",
      " 0.82770852 1.22423859 0.79094659 0.59952926 2.33312496 1.25607335\n",
      " 3.13818223 1.82059609 1.74479874 0.50255942 0.21986874 7.64427035\n",
      " 1.852182   0.48914123 0.35115214 1.1989966 ]\n"
     ]
    }
   ],
   "source": [
    "#Definindo os parâmetros\n",
    "n = 1000\n",
    "df1 = 5\n",
    "df2 = 33\n",
    "\n",
    "#Gerando os números da distribuição F\n",
    "va_f = f.rvs(df1, df2, size=n)\n",
    "print(va_f)"
   ]
  },
  {
   "cell_type": "code",
   "execution_count": 34,
   "metadata": {},
   "outputs": [
    {
     "data": {
      "image/png": "[encoded data removed]",
      "text/plain": [
       "<Figure size 640x480 with 1 Axes>"
      ]
     },
     "metadata": {},
     "output_type": "display_data"
    }
   ],
   "source": [
    "#Criando o histograma\n",
    "plt.hist(va_f, bins=30, edgecolor='black')\n",
    "plt.xlabel('Valor')\n",
    "plt.ylabel('Frequência')\n",
    "plt.title('Histograma de variáveis aleatórias F')\n",
    "plt.grid(True)\n",
    "plt.show()"
   ]
  },
  {
   "cell_type": "code",
   "execution_count": null,
   "metadata": {},
   "outputs": [],
   "source": [
    "#Vá aumentando os graus de liberade e veja como a distribuição se aproxima da normal. Informação extra: uma distribuição F é a razão entre duas qui-quadrado."
   ]
  },
  {
   "cell_type": "markdown",
   "metadata": {},
   "source": [
    "CAPÍTULO 3\n",
    "\n",
    "Teorema do Limite Central\n",
    "\n",
    "O Teorema do Limite Central é um dos `print('sdfjsfdjsnfslkfns)` mais importantes da estatítica: ele mostra como a aleatoriedade de pequenas partes pode resultar em um comportamento previsível quando olhamos muitas observações. Não importa como é a distribuição incial, se você pegar a soma da média de muitos resultados, a resultante vai formar uma curva em forma de sino, a curva Normal (ou Gaussiana)."
   ]
  }
 ],
 "metadata": {
  "kernelspec": {
   "display_name": "Python 3",
   "language": "python",
   "name": "python3"
  },
  "language_info": {
   "codemirror_mode": {
    "name": "ipython",
    "version": 3
   },
   "file_extension": ".py",
   "mimetype": "text/x-python",
   "name": "python",
   "nbconvert_exporter": "python",
   "pygments_lexer": "ipython3",
   "version": "3.13.1"
  }
 },
 "nbformat": 4,
 "nbformat_minor": 2
}
